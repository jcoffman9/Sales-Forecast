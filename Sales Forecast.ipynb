{
 "cells": [
  {
   "cell_type": "code",
   "execution_count": 1,
   "metadata": {},
   "outputs": [],
   "source": [
    "import numpy as np\n",
    "import pandas as pd\n",
    "import matplotlib.pyplot as plt\n",
    "import seaborn as sns"
   ]
  },
  {
   "cell_type": "code",
   "execution_count": 2,
   "metadata": {},
   "outputs": [
    {
     "name": "stdout",
     "output_type": "stream",
     "text": [
      "(41088, 8)\n"
     ]
    }
   ],
   "source": [
    "#import data as dataframe\n",
    "sales = pd.read_csv(\"supermarket_sales.csv\")\n",
    "#sales.head(6)\n",
    "\n",
    "test = pd.read_csv(\"test.csv\")\n",
    "test.head()\n",
    "print(test.shape)"
   ]
  },
  {
   "cell_type": "code",
   "execution_count": 3,
   "metadata": {},
   "outputs": [
    {
     "data": {
      "text/plain": [
       "Id                0\n",
       "Store             0\n",
       "DayOfWeek         0\n",
       "Date              0\n",
       "Open             11\n",
       "Promo             0\n",
       "StateHoliday      0\n",
       "SchoolHoliday     0\n",
       "dtype: int64"
      ]
     },
     "execution_count": 3,
     "metadata": {},
     "output_type": "execute_result"
    }
   ],
   "source": [
    "test.isnull().sum()"
   ]
  },
  {
   "cell_type": "code",
   "execution_count": 4,
   "metadata": {},
   "outputs": [
    {
     "data": {
      "text/plain": [
       "(1000, 17)"
      ]
     },
     "execution_count": 4,
     "metadata": {},
     "output_type": "execute_result"
    }
   ],
   "source": [
    "sales.shape"
   ]
  },
  {
   "cell_type": "code",
   "execution_count": 5,
   "metadata": {},
   "outputs": [
    {
     "data": {
      "text/html": [
       "<div>\n",
       "<style scoped>\n",
       "    .dataframe tbody tr th:only-of-type {\n",
       "        vertical-align: middle;\n",
       "    }\n",
       "\n",
       "    .dataframe tbody tr th {\n",
       "        vertical-align: top;\n",
       "    }\n",
       "\n",
       "    .dataframe thead th {\n",
       "        text-align: right;\n",
       "    }\n",
       "</style>\n",
       "<table border=\"1\" class=\"dataframe\">\n",
       "  <thead>\n",
       "    <tr style=\"text-align: right;\">\n",
       "      <th></th>\n",
       "      <th>Unit price</th>\n",
       "      <th>Quantity</th>\n",
       "      <th>Tax 5%</th>\n",
       "      <th>Total</th>\n",
       "      <th>cogs</th>\n",
       "      <th>gross margin percentage</th>\n",
       "      <th>gross income</th>\n",
       "      <th>Rating</th>\n",
       "    </tr>\n",
       "  </thead>\n",
       "  <tbody>\n",
       "    <tr>\n",
       "      <th>count</th>\n",
       "      <td>1000.000000</td>\n",
       "      <td>1000.000000</td>\n",
       "      <td>1000.000000</td>\n",
       "      <td>1000.000000</td>\n",
       "      <td>1000.00000</td>\n",
       "      <td>1.000000e+03</td>\n",
       "      <td>1000.000000</td>\n",
       "      <td>1000.000000</td>\n",
       "    </tr>\n",
       "    <tr>\n",
       "      <th>mean</th>\n",
       "      <td>55.672130</td>\n",
       "      <td>5.510000</td>\n",
       "      <td>15.379369</td>\n",
       "      <td>322.966749</td>\n",
       "      <td>307.58738</td>\n",
       "      <td>4.761905e+00</td>\n",
       "      <td>15.379369</td>\n",
       "      <td>6.972500</td>\n",
       "    </tr>\n",
       "    <tr>\n",
       "      <th>std</th>\n",
       "      <td>26.494628</td>\n",
       "      <td>2.923431</td>\n",
       "      <td>11.708825</td>\n",
       "      <td>245.885335</td>\n",
       "      <td>234.17651</td>\n",
       "      <td>6.220360e-14</td>\n",
       "      <td>11.708825</td>\n",
       "      <td>1.732061</td>\n",
       "    </tr>\n",
       "    <tr>\n",
       "      <th>min</th>\n",
       "      <td>10.080000</td>\n",
       "      <td>1.000000</td>\n",
       "      <td>0.508500</td>\n",
       "      <td>10.678500</td>\n",
       "      <td>10.17000</td>\n",
       "      <td>4.761905e+00</td>\n",
       "      <td>0.508500</td>\n",
       "      <td>4.000000</td>\n",
       "    </tr>\n",
       "    <tr>\n",
       "      <th>25%</th>\n",
       "      <td>32.875000</td>\n",
       "      <td>3.000000</td>\n",
       "      <td>5.924875</td>\n",
       "      <td>124.422375</td>\n",
       "      <td>118.49750</td>\n",
       "      <td>4.761905e+00</td>\n",
       "      <td>5.924875</td>\n",
       "      <td>5.500000</td>\n",
       "    </tr>\n",
       "    <tr>\n",
       "      <th>50%</th>\n",
       "      <td>55.230000</td>\n",
       "      <td>5.000000</td>\n",
       "      <td>12.088000</td>\n",
       "      <td>253.848000</td>\n",
       "      <td>241.76000</td>\n",
       "      <td>4.761905e+00</td>\n",
       "      <td>12.088000</td>\n",
       "      <td>7.000000</td>\n",
       "    </tr>\n",
       "    <tr>\n",
       "      <th>75%</th>\n",
       "      <td>77.935000</td>\n",
       "      <td>8.000000</td>\n",
       "      <td>22.445250</td>\n",
       "      <td>471.350250</td>\n",
       "      <td>448.90500</td>\n",
       "      <td>4.761905e+00</td>\n",
       "      <td>22.445250</td>\n",
       "      <td>8.500000</td>\n",
       "    </tr>\n",
       "    <tr>\n",
       "      <th>max</th>\n",
       "      <td>99.960000</td>\n",
       "      <td>10.000000</td>\n",
       "      <td>49.650000</td>\n",
       "      <td>1042.650000</td>\n",
       "      <td>993.00000</td>\n",
       "      <td>4.761905e+00</td>\n",
       "      <td>49.650000</td>\n",
       "      <td>10.000000</td>\n",
       "    </tr>\n",
       "  </tbody>\n",
       "</table>\n",
       "</div>"
      ],
      "text/plain": [
       "        Unit price     Quantity       Tax 5%        Total        cogs  \\\n",
       "count  1000.000000  1000.000000  1000.000000  1000.000000  1000.00000   \n",
       "mean     55.672130     5.510000    15.379369   322.966749   307.58738   \n",
       "std      26.494628     2.923431    11.708825   245.885335   234.17651   \n",
       "min      10.080000     1.000000     0.508500    10.678500    10.17000   \n",
       "25%      32.875000     3.000000     5.924875   124.422375   118.49750   \n",
       "50%      55.230000     5.000000    12.088000   253.848000   241.76000   \n",
       "75%      77.935000     8.000000    22.445250   471.350250   448.90500   \n",
       "max      99.960000    10.000000    49.650000  1042.650000   993.00000   \n",
       "\n",
       "       gross margin percentage  gross income       Rating  \n",
       "count             1.000000e+03   1000.000000  1000.000000  \n",
       "mean              4.761905e+00     15.379369     6.972500  \n",
       "std               6.220360e-14     11.708825     1.732061  \n",
       "min               4.761905e+00      0.508500     4.000000  \n",
       "25%               4.761905e+00      5.924875     5.500000  \n",
       "50%               4.761905e+00     12.088000     7.000000  \n",
       "75%               4.761905e+00     22.445250     8.500000  \n",
       "max               4.761905e+00     49.650000    10.000000  "
      ]
     },
     "execution_count": 5,
     "metadata": {},
     "output_type": "execute_result"
    }
   ],
   "source": [
    "sales.describe()"
   ]
  },
  {
   "cell_type": "markdown",
   "metadata": {},
   "source": [
    "## EDA"
   ]
  },
  {
   "cell_type": "code",
   "execution_count": 6,
   "metadata": {},
   "outputs": [
    {
     "data": {
      "text/plain": [
       "<AxesSubplot:xlabel='Branch', ylabel='count'>"
      ]
     },
     "execution_count": 6,
     "metadata": {},
     "output_type": "execute_result"
    },
    {
     "data": {
      "image/png": "[encoded data removed]",
      "text/plain": [
       "<Figure size 432x288 with 1 Axes>"
      ]
     },
     "metadata": {
      "needs_background": "light"
     },
     "output_type": "display_data"
    }
   ],
   "source": [
    "sns.countplot(x = \"Branch\", data = sales, palette='Pastel1')"
   ]
  },
  {
   "cell_type": "code",
   "execution_count": 7,
   "metadata": {},
   "outputs": [],
   "source": [
    "# each branch cooresponds to one city so we may get rid of either branch or city \n",
    "#total and tax are perfectly coorelated, as are total and gross income so we may drop tax and gross income"
   ]
  },
  {
   "cell_type": "code",
   "execution_count": 8,
   "metadata": {},
   "outputs": [
    {
     "data": {
      "text/plain": [
       "<matplotlib.legend.Legend at 0x7febeda6ca60>"
      ]
     },
     "execution_count": 8,
     "metadata": {},
     "output_type": "execute_result"
    },
    {
     "data": {
      "image/png": "[encoded data removed]",
      "text/plain": [
       "<Figure size 432x288 with 1 Axes>"
      ]
     },
     "metadata": {
      "needs_background": "light"
     },
     "output_type": "display_data"
    }
   ],
   "source": [
    "sns.countplot(data = sales , x = 'Customer type' , hue = 'Gender'  , palette='Pastel1')\n",
    "plt.legend(bbox_to_anchor=(1.05, 1), loc=2, borderaxespad=0.)"
   ]
  },
  {
   "cell_type": "code",
   "execution_count": 9,
   "metadata": {},
   "outputs": [
    {
     "data": {
      "text/plain": [
       "<AxesSubplot:xlabel='Customer type', ylabel='Rating'>"
      ]
     },
     "execution_count": 9,
     "metadata": {},
     "output_type": "execute_result"
    },
    {
     "data": {
      "image/png": "[encoded data removed]",
      "text/plain": [
       "<Figure size 432x288 with 1 Axes>"
      ]
     },
     "metadata": {
      "needs_background": "light"
     },
     "output_type": "display_data"
    }
   ],
   "source": [
    "sns.barplot(x = \"Customer type\", y = \"Rating\", data = sales, palette='Pastel1')"
   ]
  },
  {
   "cell_type": "code",
   "execution_count": 10,
   "metadata": {},
   "outputs": [
    {
     "data": {
      "text/plain": [
       "<AxesSubplot:xlabel='Product line', ylabel='Total'>"
      ]
     },
     "execution_count": 10,
     "metadata": {},
     "output_type": "execute_result"
    },
    {
     "data": {
      "image/png": "[encoded data removed]",
      "text/plain": [
       "<Figure size 1440x720 with 1 Axes>"
      ]
     },
     "metadata": {
      "needs_background": "light"
     },
     "output_type": "display_data"
    }
   ],
   "source": [
    "plt.figure(figsize = (20,10))\n",
    "sns.barplot(x = 'Product line',y = 'Total', data = sales, palette='Pastel1')"
   ]
  },
  {
   "cell_type": "code",
   "execution_count": 11,
   "metadata": {},
   "outputs": [
    {
     "data": {
      "text/plain": [
       "<AxesSubplot:xlabel='Product line', ylabel='Total'>"
      ]
     },
     "execution_count": 11,
     "metadata": {},
     "output_type": "execute_result"
    },
    {
     "data": {
      "image/png": "[encoded data removed]",
      "text/plain": [
       "<Figure size 1440x360 with 1 Axes>"
      ]
     },
     "metadata": {
      "needs_background": "light"
     },
     "output_type": "display_data"
    }
   ],
   "source": [
    "plt.figure(figsize = (20,5))\n",
    "sns.barplot(x = 'Product line',y = 'Total', data = sales, hue ='Gender', palette='Pastel1')"
   ]
  },
  {
   "cell_type": "code",
   "execution_count": 12,
   "metadata": {},
   "outputs": [],
   "source": [
    "# the unit price of all product lines are nearly same as well as their error margins.\n",
    "# this is also true when y = 'Ratings', the product unit price difference between both \n",
    "# genders is slighly noticeable and has large margins, so maybe significant. if need be, \n",
    "# product line column will also be dropped to improve performance."
   ]
  },
  {
   "cell_type": "code",
   "execution_count": 13,
   "metadata": {},
   "outputs": [
    {
     "data": {
      "text/plain": [
       "<AxesSubplot:xlabel='Payment', ylabel='count'>"
      ]
     },
     "execution_count": 13,
     "metadata": {},
     "output_type": "execute_result"
    },
    {
     "data": {
      "image/png": "[encoded data removed]",
      "text/plain": [
       "<Figure size 720x360 with 1 Axes>"
      ]
     },
     "metadata": {
      "needs_background": "light"
     },
     "output_type": "display_data"
    }
   ],
   "source": [
    "plt.figure(figsize = (10,5))\n",
    "sns.countplot(x = 'Payment', data = sales, palette='Pastel1')"
   ]
  },
  {
   "cell_type": "code",
   "execution_count": 14,
   "metadata": {},
   "outputs": [
    {
     "data": {
      "text/plain": [
       "<AxesSubplot:xlabel='Payment', ylabel='count'>"
      ]
     },
     "execution_count": 14,
     "metadata": {},
     "output_type": "execute_result"
    },
    {
     "data": {
      "image/png": "[encoded data removed]",
      "text/plain": [
       "<Figure size 720x360 with 1 Axes>"
      ]
     },
     "metadata": {
      "needs_background": "light"
     },
     "output_type": "display_data"
    }
   ],
   "source": [
    "plt.figure(figsize = (10,5))\n",
    "sns.countplot(x = 'Payment', data = sales, hue = 'Branch', palette='Pastel1')"
   ]
  },
  {
   "cell_type": "code",
   "execution_count": 15,
   "metadata": {},
   "outputs": [
    {
     "data": {
      "text/plain": [
       "<AxesSubplot:xlabel='Payment', ylabel='count'>"
      ]
     },
     "execution_count": 15,
     "metadata": {},
     "output_type": "execute_result"
    },
    {
     "data": {
      "image/png": "[encoded data removed]",
      "text/plain": [
       "<Figure size 720x360 with 1 Axes>"
      ]
     },
     "metadata": {
      "needs_background": "light"
     },
     "output_type": "display_data"
    }
   ],
   "source": [
    "plt.figure(figsize = (10,5))\n",
    "sns.countplot(x = 'Payment', data = sales, hue = 'Gender', palette='Pastel1')"
   ]
  },
  {
   "cell_type": "code",
   "execution_count": 16,
   "metadata": {},
   "outputs": [],
   "source": [
    "# people use credit card less often than other options but the usage is still strongly comparable. \n",
    "# within cities, the usage differs only by slight amounts. \n",
    "# Not a eye-catching difference in gender specific usage either. \n",
    "# lets see the relationship between ratings and payment method"
   ]
  },
  {
   "cell_type": "code",
   "execution_count": 17,
   "metadata": {},
   "outputs": [
    {
     "data": {
      "text/plain": [
       "<AxesSubplot:xlabel='Payment', ylabel='Rating'>"
      ]
     },
     "execution_count": 17,
     "metadata": {},
     "output_type": "execute_result"
    },
    {
     "data": {
      "image/png": "[encoded data removed]",
      "text/plain": [
       "<Figure size 432x288 with 1 Axes>"
      ]
     },
     "metadata": {
      "needs_background": "light"
     },
     "output_type": "display_data"
    }
   ],
   "source": [
    "sns.barplot(x = 'Payment', y = 'Rating', data = sales, palette='Pastel1')"
   ]
  },
  {
   "cell_type": "code",
   "execution_count": 18,
   "metadata": {},
   "outputs": [],
   "source": [
    "# there is no variation in payment so payment may be dropped"
   ]
  },
  {
   "cell_type": "code",
   "execution_count": 19,
   "metadata": {},
   "outputs": [
    {
     "data": {
      "text/plain": [
       "<AxesSubplot:xlabel='Branch', ylabel='Rating'>"
      ]
     },
     "execution_count": 19,
     "metadata": {},
     "output_type": "execute_result"
    },
    {
     "data": {
      "image/png": "[encoded data removed]",
      "text/plain": [
       "<Figure size 432x288 with 1 Axes>"
      ]
     },
     "metadata": {
      "needs_background": "light"
     },
     "output_type": "display_data"
    }
   ],
   "source": [
    "\n",
    "sns.barplot(x = 'Branch', y = 'Rating', data = sales, palette='Pastel1')"
   ]
  },
  {
   "cell_type": "code",
   "execution_count": 20,
   "metadata": {
    "scrolled": true
   },
   "outputs": [
    {
     "data": {
      "text/plain": [
       "<AxesSubplot:xlabel='Customer type', ylabel='Rating'>"
      ]
     },
     "execution_count": 20,
     "metadata": {},
     "output_type": "execute_result"
    },
    {
     "data": {
      "image/png": "[encoded data removed]",
      "text/plain": [
       "<Figure size 432x288 with 1 Axes>"
      ]
     },
     "metadata": {
      "needs_background": "light"
     },
     "output_type": "display_data"
    }
   ],
   "source": [
    "sns.barplot(x = 'Customer type', y = 'Rating', data = sales, hue = 'Gender', palette='Pastel1') "
   ]
  },
  {
   "cell_type": "code",
   "execution_count": 21,
   "metadata": {},
   "outputs": [],
   "source": [
    "# Gender and Customer type do not have a significant role in ratings "
   ]
  },
  {
   "cell_type": "code",
   "execution_count": 22,
   "metadata": {},
   "outputs": [
    {
     "data": {
      "text/html": [
       "<div>\n",
       "<style scoped>\n",
       "    .dataframe tbody tr th:only-of-type {\n",
       "        vertical-align: middle;\n",
       "    }\n",
       "\n",
       "    .dataframe tbody tr th {\n",
       "        vertical-align: top;\n",
       "    }\n",
       "\n",
       "    .dataframe thead th {\n",
       "        text-align: right;\n",
       "    }\n",
       "</style>\n",
       "<table border=\"1\" class=\"dataframe\">\n",
       "  <thead>\n",
       "    <tr style=\"text-align: right;\">\n",
       "      <th></th>\n",
       "      <th>Hour</th>\n",
       "      <th>Quantity</th>\n",
       "    </tr>\n",
       "  </thead>\n",
       "  <tbody>\n",
       "    <tr>\n",
       "      <th>9</th>\n",
       "      <td>19</td>\n",
       "      <td>649</td>\n",
       "    </tr>\n",
       "    <tr>\n",
       "      <th>3</th>\n",
       "      <td>13</td>\n",
       "      <td>585</td>\n",
       "    </tr>\n",
       "    <tr>\n",
       "      <th>5</th>\n",
       "      <td>15</td>\n",
       "      <td>530</td>\n",
       "    </tr>\n",
       "    <tr>\n",
       "      <th>0</th>\n",
       "      <td>10</td>\n",
       "      <td>525</td>\n",
       "    </tr>\n",
       "    <tr>\n",
       "      <th>1</th>\n",
       "      <td>11</td>\n",
       "      <td>513</td>\n",
       "    </tr>\n",
       "    <tr>\n",
       "      <th>2</th>\n",
       "      <td>12</td>\n",
       "      <td>501</td>\n",
       "    </tr>\n",
       "    <tr>\n",
       "      <th>4</th>\n",
       "      <td>14</td>\n",
       "      <td>495</td>\n",
       "    </tr>\n",
       "    <tr>\n",
       "      <th>8</th>\n",
       "      <td>18</td>\n",
       "      <td>475</td>\n",
       "    </tr>\n",
       "    <tr>\n",
       "      <th>6</th>\n",
       "      <td>16</td>\n",
       "      <td>420</td>\n",
       "    </tr>\n",
       "    <tr>\n",
       "      <th>7</th>\n",
       "      <td>17</td>\n",
       "      <td>415</td>\n",
       "    </tr>\n",
       "  </tbody>\n",
       "</table>\n",
       "</div>"
      ],
      "text/plain": [
       "   Hour  Quantity\n",
       "9    19       649\n",
       "3    13       585\n",
       "5    15       530\n",
       "0    10       525\n",
       "1    11       513\n",
       "2    12       501\n",
       "4    14       495\n",
       "8    18       475\n",
       "6    16       420\n",
       "7    17       415"
      ]
     },
     "execution_count": 22,
     "metadata": {},
     "output_type": "execute_result"
    }
   ],
   "source": [
    "sales['Hour'] = pd.to_datetime(sales['Time']).dt.hour\n",
    "\n",
    "hours = sales.groupby(['Hour'])[['Quantity']].apply(sum).reset_index().sort_values(by=['Quantity'], ascending = False)\n",
    "hours.head(10)"
   ]
  },
  {
   "cell_type": "code",
   "execution_count": 23,
   "metadata": {},
   "outputs": [
    {
     "data": {
      "text/plain": [
       "<AxesSubplot:xlabel='Hour', ylabel='Quantity'>"
      ]
     },
     "execution_count": 23,
     "metadata": {},
     "output_type": "execute_result"
    },
    {
     "data": {
      "image/png": "[encoded data removed]",
      "text/plain": [
       "<Figure size 432x288 with 1 Axes>"
      ]
     },
     "metadata": {
      "needs_background": "light"
     },
     "output_type": "display_data"
    }
   ],
   "source": [
    "sns.barplot(x='Hour',y='Quantity', data=hours, palette='Pastel1')"
   ]
  },
  {
   "cell_type": "code",
   "execution_count": 24,
   "metadata": {},
   "outputs": [],
   "source": [
    "# from this table we can see the best time for sales is 1pm or 7pm"
   ]
  },
  {
   "cell_type": "code",
   "execution_count": 25,
   "metadata": {},
   "outputs": [
    {
     "data": {
      "text/plain": [
       "<matplotlib.legend.Legend at 0x7febefc559d0>"
      ]
     },
     "execution_count": 25,
     "metadata": {},
     "output_type": "execute_result"
    },
    {
     "data": {
      "image/png": "[encoded data removed]",
      "text/plain": [
       "<Figure size 432x288 with 1 Axes>"
      ]
     },
     "metadata": {
      "needs_background": "light"
     },
     "output_type": "display_data"
    }
   ],
   "source": [
    "sns.countplot(data = sales , x = 'Payment' , hue = 'Product line'  , palette='Pastel1')\n",
    "plt.legend(bbox_to_anchor=(1.05, 1), loc=2, borderaxespad=0.)"
   ]
  },
  {
   "cell_type": "markdown",
   "metadata": {},
   "source": [
    "## Pre-processing"
   ]
  },
  {
   "cell_type": "code",
   "execution_count": 26,
   "metadata": {},
   "outputs": [
    {
     "data": {
      "text/plain": [
       "Index(['Invoice ID', 'Branch', 'City', 'Customer type', 'Gender',\n",
       "       'Product line', 'Unit price', 'Quantity', 'Tax 5%', 'Total', 'Date',\n",
       "       'Time', 'Payment', 'cogs', 'gross margin percentage', 'gross income',\n",
       "       'Rating', 'Hour'],\n",
       "      dtype='object')"
      ]
     },
     "execution_count": 26,
     "metadata": {},
     "output_type": "execute_result"
    }
   ],
   "source": [
    "sales.columns"
   ]
  },
  {
   "cell_type": "markdown",
   "metadata": {},
   "source": [
    "## Data Cleaning"
   ]
  },
  {
   "cell_type": "code",
   "execution_count": 27,
   "metadata": {},
   "outputs": [],
   "source": [
    "# ID is different for every entry and gross percent is the same for every entry, they will be dropped"
   ]
  },
  {
   "cell_type": "code",
   "execution_count": 28,
   "metadata": {},
   "outputs": [],
   "source": [
    "sales.drop(['Invoice ID','gross margin percentage'], axis = 1, inplace = True)"
   ]
  },
  {
   "cell_type": "code",
   "execution_count": 29,
   "metadata": {},
   "outputs": [],
   "source": [
    "# we have already established that city and branch are the same thing. \n",
    "# we will be deleting branch. similarly, total, tax, gross income are perfectly correlated.\n",
    "# we will be dropping tax and gross income.\n",
    "# data and time are also excluded but may be added back if the model needs improvement"
   ]
  },
  {
   "cell_type": "code",
   "execution_count": 30,
   "metadata": {},
   "outputs": [],
   "source": [
    "sales.drop(['City','Tax 5%','gross income'], axis = 1, inplace = True)"
   ]
  },
  {
   "cell_type": "code",
   "execution_count": 31,
   "metadata": {},
   "outputs": [
    {
     "data": {
      "text/html": [
       "<div>\n",
       "<style scoped>\n",
       "    .dataframe tbody tr th:only-of-type {\n",
       "        vertical-align: middle;\n",
       "    }\n",
       "\n",
       "    .dataframe tbody tr th {\n",
       "        vertical-align: top;\n",
       "    }\n",
       "\n",
       "    .dataframe thead th {\n",
       "        text-align: right;\n",
       "    }\n",
       "</style>\n",
       "<table border=\"1\" class=\"dataframe\">\n",
       "  <thead>\n",
       "    <tr style=\"text-align: right;\">\n",
       "      <th></th>\n",
       "      <th>Branch</th>\n",
       "      <th>Customer type</th>\n",
       "      <th>Gender</th>\n",
       "      <th>Product line</th>\n",
       "      <th>Unit price</th>\n",
       "      <th>Quantity</th>\n",
       "      <th>Total</th>\n",
       "      <th>Date</th>\n",
       "      <th>Time</th>\n",
       "      <th>Payment</th>\n",
       "      <th>cogs</th>\n",
       "      <th>Rating</th>\n",
       "      <th>Hour</th>\n",
       "    </tr>\n",
       "  </thead>\n",
       "  <tbody>\n",
       "    <tr>\n",
       "      <th>0</th>\n",
       "      <td>A</td>\n",
       "      <td>Member</td>\n",
       "      <td>Female</td>\n",
       "      <td>Food and beverages</td>\n",
       "      <td>74.69</td>\n",
       "      <td>7</td>\n",
       "      <td>548.9715</td>\n",
       "      <td>1/5/2019</td>\n",
       "      <td>13:08</td>\n",
       "      <td>Ewallet</td>\n",
       "      <td>522.83</td>\n",
       "      <td>9.1</td>\n",
       "      <td>13</td>\n",
       "    </tr>\n",
       "    <tr>\n",
       "      <th>1</th>\n",
       "      <td>C</td>\n",
       "      <td>Normal</td>\n",
       "      <td>Female</td>\n",
       "      <td>Electronic accessories</td>\n",
       "      <td>15.28</td>\n",
       "      <td>5</td>\n",
       "      <td>80.2200</td>\n",
       "      <td>3/8/2019</td>\n",
       "      <td>10:29</td>\n",
       "      <td>Cash</td>\n",
       "      <td>76.40</td>\n",
       "      <td>9.6</td>\n",
       "      <td>10</td>\n",
       "    </tr>\n",
       "    <tr>\n",
       "      <th>2</th>\n",
       "      <td>A</td>\n",
       "      <td>Normal</td>\n",
       "      <td>Male</td>\n",
       "      <td>Home and lifestyle</td>\n",
       "      <td>46.33</td>\n",
       "      <td>7</td>\n",
       "      <td>340.5255</td>\n",
       "      <td>3/3/2019</td>\n",
       "      <td>13:23</td>\n",
       "      <td>Credit card</td>\n",
       "      <td>324.31</td>\n",
       "      <td>7.4</td>\n",
       "      <td>13</td>\n",
       "    </tr>\n",
       "    <tr>\n",
       "      <th>3</th>\n",
       "      <td>A</td>\n",
       "      <td>Member</td>\n",
       "      <td>Male</td>\n",
       "      <td>Food and beverages</td>\n",
       "      <td>58.22</td>\n",
       "      <td>8</td>\n",
       "      <td>489.0480</td>\n",
       "      <td>1/27/2019</td>\n",
       "      <td>20:33</td>\n",
       "      <td>Ewallet</td>\n",
       "      <td>465.76</td>\n",
       "      <td>8.4</td>\n",
       "      <td>20</td>\n",
       "    </tr>\n",
       "    <tr>\n",
       "      <th>4</th>\n",
       "      <td>A</td>\n",
       "      <td>Member</td>\n",
       "      <td>Male</td>\n",
       "      <td>Sports and travel</td>\n",
       "      <td>86.31</td>\n",
       "      <td>7</td>\n",
       "      <td>634.3785</td>\n",
       "      <td>2/8/2019</td>\n",
       "      <td>10:37</td>\n",
       "      <td>Ewallet</td>\n",
       "      <td>604.17</td>\n",
       "      <td>5.3</td>\n",
       "      <td>10</td>\n",
       "    </tr>\n",
       "  </tbody>\n",
       "</table>\n",
       "</div>"
      ],
      "text/plain": [
       "  Branch Customer type  Gender            Product line  Unit price  Quantity  \\\n",
       "0      A        Member  Female      Food and beverages       74.69         7   \n",
       "1      C        Normal  Female  Electronic accessories       15.28         5   \n",
       "2      A        Normal    Male      Home and lifestyle       46.33         7   \n",
       "3      A        Member    Male      Food and beverages       58.22         8   \n",
       "4      A        Member    Male       Sports and travel       86.31         7   \n",
       "\n",
       "      Total       Date   Time      Payment    cogs  Rating  Hour  \n",
       "0  548.9715   1/5/2019  13:08      Ewallet  522.83     9.1    13  \n",
       "1   80.2200   3/8/2019  10:29         Cash   76.40     9.6    10  \n",
       "2  340.5255   3/3/2019  13:23  Credit card  324.31     7.4    13  \n",
       "3  489.0480  1/27/2019  20:33      Ewallet  465.76     8.4    20  \n",
       "4  634.3785   2/8/2019  10:37      Ewallet  604.17     5.3    10  "
      ]
     },
     "execution_count": 31,
     "metadata": {},
     "output_type": "execute_result"
    }
   ],
   "source": [
    "sales.head()"
   ]
  },
  {
   "cell_type": "code",
   "execution_count": 32,
   "metadata": {},
   "outputs": [
    {
     "data": {
      "text/html": [
       "<div>\n",
       "<style scoped>\n",
       "    .dataframe tbody tr th:only-of-type {\n",
       "        vertical-align: middle;\n",
       "    }\n",
       "\n",
       "    .dataframe tbody tr th {\n",
       "        vertical-align: top;\n",
       "    }\n",
       "\n",
       "    .dataframe thead th {\n",
       "        text-align: right;\n",
       "    }\n",
       "</style>\n",
       "<table border=\"1\" class=\"dataframe\">\n",
       "  <thead>\n",
       "    <tr style=\"text-align: right;\">\n",
       "      <th></th>\n",
       "      <th>Unit price</th>\n",
       "      <th>Quantity</th>\n",
       "      <th>Total</th>\n",
       "      <th>cogs</th>\n",
       "      <th>Rating</th>\n",
       "      <th>Hour</th>\n",
       "      <th>Branch_A</th>\n",
       "      <th>Branch_B</th>\n",
       "      <th>Branch_C</th>\n",
       "      <th>Customer type_Member</th>\n",
       "      <th>...</th>\n",
       "      <th>Time_20:50</th>\n",
       "      <th>Time_20:51</th>\n",
       "      <th>Time_20:52</th>\n",
       "      <th>Time_20:54</th>\n",
       "      <th>Time_20:55</th>\n",
       "      <th>Time_20:57</th>\n",
       "      <th>Time_20:59</th>\n",
       "      <th>Payment_Cash</th>\n",
       "      <th>Payment_Credit card</th>\n",
       "      <th>Payment_Ewallet</th>\n",
       "    </tr>\n",
       "  </thead>\n",
       "  <tbody>\n",
       "    <tr>\n",
       "      <th>0</th>\n",
       "      <td>74.69</td>\n",
       "      <td>7</td>\n",
       "      <td>548.9715</td>\n",
       "      <td>522.83</td>\n",
       "      <td>9.1</td>\n",
       "      <td>13</td>\n",
       "      <td>1</td>\n",
       "      <td>0</td>\n",
       "      <td>0</td>\n",
       "      <td>1</td>\n",
       "      <td>...</td>\n",
       "      <td>0</td>\n",
       "      <td>0</td>\n",
       "      <td>0</td>\n",
       "      <td>0</td>\n",
       "      <td>0</td>\n",
       "      <td>0</td>\n",
       "      <td>0</td>\n",
       "      <td>0</td>\n",
       "      <td>0</td>\n",
       "      <td>1</td>\n",
       "    </tr>\n",
       "    <tr>\n",
       "      <th>1</th>\n",
       "      <td>15.28</td>\n",
       "      <td>5</td>\n",
       "      <td>80.2200</td>\n",
       "      <td>76.40</td>\n",
       "      <td>9.6</td>\n",
       "      <td>10</td>\n",
       "      <td>0</td>\n",
       "      <td>0</td>\n",
       "      <td>1</td>\n",
       "      <td>0</td>\n",
       "      <td>...</td>\n",
       "      <td>0</td>\n",
       "      <td>0</td>\n",
       "      <td>0</td>\n",
       "      <td>0</td>\n",
       "      <td>0</td>\n",
       "      <td>0</td>\n",
       "      <td>0</td>\n",
       "      <td>1</td>\n",
       "      <td>0</td>\n",
       "      <td>0</td>\n",
       "    </tr>\n",
       "    <tr>\n",
       "      <th>2</th>\n",
       "      <td>46.33</td>\n",
       "      <td>7</td>\n",
       "      <td>340.5255</td>\n",
       "      <td>324.31</td>\n",
       "      <td>7.4</td>\n",
       "      <td>13</td>\n",
       "      <td>1</td>\n",
       "      <td>0</td>\n",
       "      <td>0</td>\n",
       "      <td>0</td>\n",
       "      <td>...</td>\n",
       "      <td>0</td>\n",
       "      <td>0</td>\n",
       "      <td>0</td>\n",
       "      <td>0</td>\n",
       "      <td>0</td>\n",
       "      <td>0</td>\n",
       "      <td>0</td>\n",
       "      <td>0</td>\n",
       "      <td>1</td>\n",
       "      <td>0</td>\n",
       "    </tr>\n",
       "    <tr>\n",
       "      <th>3</th>\n",
       "      <td>58.22</td>\n",
       "      <td>8</td>\n",
       "      <td>489.0480</td>\n",
       "      <td>465.76</td>\n",
       "      <td>8.4</td>\n",
       "      <td>20</td>\n",
       "      <td>1</td>\n",
       "      <td>0</td>\n",
       "      <td>0</td>\n",
       "      <td>1</td>\n",
       "      <td>...</td>\n",
       "      <td>0</td>\n",
       "      <td>0</td>\n",
       "      <td>0</td>\n",
       "      <td>0</td>\n",
       "      <td>0</td>\n",
       "      <td>0</td>\n",
       "      <td>0</td>\n",
       "      <td>0</td>\n",
       "      <td>0</td>\n",
       "      <td>1</td>\n",
       "    </tr>\n",
       "    <tr>\n",
       "      <th>4</th>\n",
       "      <td>86.31</td>\n",
       "      <td>7</td>\n",
       "      <td>634.3785</td>\n",
       "      <td>604.17</td>\n",
       "      <td>5.3</td>\n",
       "      <td>10</td>\n",
       "      <td>1</td>\n",
       "      <td>0</td>\n",
       "      <td>0</td>\n",
       "      <td>1</td>\n",
       "      <td>...</td>\n",
       "      <td>0</td>\n",
       "      <td>0</td>\n",
       "      <td>0</td>\n",
       "      <td>0</td>\n",
       "      <td>0</td>\n",
       "      <td>0</td>\n",
       "      <td>0</td>\n",
       "      <td>0</td>\n",
       "      <td>0</td>\n",
       "      <td>1</td>\n",
       "    </tr>\n",
       "  </tbody>\n",
       "</table>\n",
       "<p>5 rows × 617 columns</p>\n",
       "</div>"
      ],
      "text/plain": [
       "   Unit price  Quantity     Total    cogs  Rating  Hour  Branch_A  Branch_B  \\\n",
       "0       74.69         7  548.9715  522.83     9.1    13         1         0   \n",
       "1       15.28         5   80.2200   76.40     9.6    10         0         0   \n",
       "2       46.33         7  340.5255  324.31     7.4    13         1         0   \n",
       "3       58.22         8  489.0480  465.76     8.4    20         1         0   \n",
       "4       86.31         7  634.3785  604.17     5.3    10         1         0   \n",
       "\n",
       "   Branch_C  Customer type_Member  ...  Time_20:50  Time_20:51  Time_20:52  \\\n",
       "0         0                     1  ...           0           0           0   \n",
       "1         1                     0  ...           0           0           0   \n",
       "2         0                     0  ...           0           0           0   \n",
       "3         0                     1  ...           0           0           0   \n",
       "4         0                     1  ...           0           0           0   \n",
       "\n",
       "   Time_20:54  Time_20:55  Time_20:57  Time_20:59  Payment_Cash  \\\n",
       "0           0           0           0           0             0   \n",
       "1           0           0           0           0             1   \n",
       "2           0           0           0           0             0   \n",
       "3           0           0           0           0             0   \n",
       "4           0           0           0           0             0   \n",
       "\n",
       "   Payment_Credit card  Payment_Ewallet  \n",
       "0                    0                1  \n",
       "1                    0                0  \n",
       "2                    1                0  \n",
       "3                    0                1  \n",
       "4                    0                1  \n",
       "\n",
       "[5 rows x 617 columns]"
      ]
     },
     "execution_count": 32,
     "metadata": {},
     "output_type": "execute_result"
    }
   ],
   "source": [
    "train_dummy = pd.get_dummies(sales)\n",
    "train_dummy.head()"
   ]
  },
  {
   "cell_type": "code",
   "execution_count": 33,
   "metadata": {},
   "outputs": [
    {
     "data": {
      "text/html": [
       "<div>\n",
       "<style scoped>\n",
       "    .dataframe tbody tr th:only-of-type {\n",
       "        vertical-align: middle;\n",
       "    }\n",
       "\n",
       "    .dataframe tbody tr th {\n",
       "        vertical-align: top;\n",
       "    }\n",
       "\n",
       "    .dataframe thead th {\n",
       "        text-align: right;\n",
       "    }\n",
       "</style>\n",
       "<table border=\"1\" class=\"dataframe\">\n",
       "  <thead>\n",
       "    <tr style=\"text-align: right;\">\n",
       "      <th></th>\n",
       "      <th>Unit price</th>\n",
       "      <th>Quantity</th>\n",
       "      <th>Total</th>\n",
       "      <th>cogs</th>\n",
       "      <th>Rating</th>\n",
       "      <th>Hour</th>\n",
       "      <th>Branch_A</th>\n",
       "      <th>Branch_B</th>\n",
       "      <th>Branch_C</th>\n",
       "      <th>Customer type_Member</th>\n",
       "      <th>...</th>\n",
       "      <th>Time_20:50</th>\n",
       "      <th>Time_20:51</th>\n",
       "      <th>Time_20:52</th>\n",
       "      <th>Time_20:54</th>\n",
       "      <th>Time_20:55</th>\n",
       "      <th>Time_20:57</th>\n",
       "      <th>Time_20:59</th>\n",
       "      <th>Payment_Cash</th>\n",
       "      <th>Payment_Credit card</th>\n",
       "      <th>Payment_Ewallet</th>\n",
       "    </tr>\n",
       "  </thead>\n",
       "  <tbody>\n",
       "    <tr>\n",
       "      <th>0</th>\n",
       "      <td>75.0</td>\n",
       "      <td>7</td>\n",
       "      <td>549.0</td>\n",
       "      <td>523.0</td>\n",
       "      <td>9.0</td>\n",
       "      <td>13</td>\n",
       "      <td>1</td>\n",
       "      <td>0</td>\n",
       "      <td>0</td>\n",
       "      <td>1</td>\n",
       "      <td>...</td>\n",
       "      <td>0</td>\n",
       "      <td>0</td>\n",
       "      <td>0</td>\n",
       "      <td>0</td>\n",
       "      <td>0</td>\n",
       "      <td>0</td>\n",
       "      <td>0</td>\n",
       "      <td>0</td>\n",
       "      <td>0</td>\n",
       "      <td>1</td>\n",
       "    </tr>\n",
       "    <tr>\n",
       "      <th>1</th>\n",
       "      <td>15.0</td>\n",
       "      <td>5</td>\n",
       "      <td>80.0</td>\n",
       "      <td>76.0</td>\n",
       "      <td>10.0</td>\n",
       "      <td>10</td>\n",
       "      <td>0</td>\n",
       "      <td>0</td>\n",
       "      <td>1</td>\n",
       "      <td>0</td>\n",
       "      <td>...</td>\n",
       "      <td>0</td>\n",
       "      <td>0</td>\n",
       "      <td>0</td>\n",
       "      <td>0</td>\n",
       "      <td>0</td>\n",
       "      <td>0</td>\n",
       "      <td>0</td>\n",
       "      <td>1</td>\n",
       "      <td>0</td>\n",
       "      <td>0</td>\n",
       "    </tr>\n",
       "    <tr>\n",
       "      <th>2</th>\n",
       "      <td>46.0</td>\n",
       "      <td>7</td>\n",
       "      <td>341.0</td>\n",
       "      <td>324.0</td>\n",
       "      <td>7.0</td>\n",
       "      <td>13</td>\n",
       "      <td>1</td>\n",
       "      <td>0</td>\n",
       "      <td>0</td>\n",
       "      <td>0</td>\n",
       "      <td>...</td>\n",
       "      <td>0</td>\n",
       "      <td>0</td>\n",
       "      <td>0</td>\n",
       "      <td>0</td>\n",
       "      <td>0</td>\n",
       "      <td>0</td>\n",
       "      <td>0</td>\n",
       "      <td>0</td>\n",
       "      <td>1</td>\n",
       "      <td>0</td>\n",
       "    </tr>\n",
       "    <tr>\n",
       "      <th>3</th>\n",
       "      <td>58.0</td>\n",
       "      <td>8</td>\n",
       "      <td>489.0</td>\n",
       "      <td>466.0</td>\n",
       "      <td>8.0</td>\n",
       "      <td>20</td>\n",
       "      <td>1</td>\n",
       "      <td>0</td>\n",
       "      <td>0</td>\n",
       "      <td>1</td>\n",
       "      <td>...</td>\n",
       "      <td>0</td>\n",
       "      <td>0</td>\n",
       "      <td>0</td>\n",
       "      <td>0</td>\n",
       "      <td>0</td>\n",
       "      <td>0</td>\n",
       "      <td>0</td>\n",
       "      <td>0</td>\n",
       "      <td>0</td>\n",
       "      <td>1</td>\n",
       "    </tr>\n",
       "    <tr>\n",
       "      <th>4</th>\n",
       "      <td>86.0</td>\n",
       "      <td>7</td>\n",
       "      <td>634.0</td>\n",
       "      <td>604.0</td>\n",
       "      <td>5.0</td>\n",
       "      <td>10</td>\n",
       "      <td>1</td>\n",
       "      <td>0</td>\n",
       "      <td>0</td>\n",
       "      <td>1</td>\n",
       "      <td>...</td>\n",
       "      <td>0</td>\n",
       "      <td>0</td>\n",
       "      <td>0</td>\n",
       "      <td>0</td>\n",
       "      <td>0</td>\n",
       "      <td>0</td>\n",
       "      <td>0</td>\n",
       "      <td>0</td>\n",
       "      <td>0</td>\n",
       "      <td>1</td>\n",
       "    </tr>\n",
       "  </tbody>\n",
       "</table>\n",
       "<p>5 rows × 617 columns</p>\n",
       "</div>"
      ],
      "text/plain": [
       "   Unit price  Quantity  Total   cogs  Rating  Hour  Branch_A  Branch_B  \\\n",
       "0        75.0         7  549.0  523.0     9.0    13         1         0   \n",
       "1        15.0         5   80.0   76.0    10.0    10         0         0   \n",
       "2        46.0         7  341.0  324.0     7.0    13         1         0   \n",
       "3        58.0         8  489.0  466.0     8.0    20         1         0   \n",
       "4        86.0         7  634.0  604.0     5.0    10         1         0   \n",
       "\n",
       "   Branch_C  Customer type_Member  ...  Time_20:50  Time_20:51  Time_20:52  \\\n",
       "0         0                     1  ...           0           0           0   \n",
       "1         1                     0  ...           0           0           0   \n",
       "2         0                     0  ...           0           0           0   \n",
       "3         0                     1  ...           0           0           0   \n",
       "4         0                     1  ...           0           0           0   \n",
       "\n",
       "   Time_20:54  Time_20:55  Time_20:57  Time_20:59  Payment_Cash  \\\n",
       "0           0           0           0           0             0   \n",
       "1           0           0           0           0             1   \n",
       "2           0           0           0           0             0   \n",
       "3           0           0           0           0             0   \n",
       "4           0           0           0           0             0   \n",
       "\n",
       "   Payment_Credit card  Payment_Ewallet  \n",
       "0                    0                1  \n",
       "1                    0                0  \n",
       "2                    1                0  \n",
       "3                    0                1  \n",
       "4                    0                1  \n",
       "\n",
       "[5 rows x 617 columns]"
      ]
     },
     "execution_count": 33,
     "metadata": {},
     "output_type": "execute_result"
    }
   ],
   "source": [
    "train_dummy = train_dummy.round(0)\n",
    "train_dummy.head()"
   ]
  },
  {
   "cell_type": "markdown",
   "metadata": {},
   "source": [
    "## Model Training"
   ]
  },
  {
   "cell_type": "code",
   "execution_count": 34,
   "metadata": {},
   "outputs": [],
   "source": [
    "from sklearn.model_selection import train_test_split\n",
    "from sklearn.tree import DecisionTreeClassifier"
   ]
  },
  {
   "cell_type": "code",
   "execution_count": 35,
   "metadata": {},
   "outputs": [],
   "source": [
    "X = train_dummy.drop('Quantity', axis = 1)\n",
    "y = train_dummy['Quantity']"
   ]
  },
  {
   "cell_type": "code",
   "execution_count": 36,
   "metadata": {},
   "outputs": [
    {
     "data": {
      "text/plain": [
       "DecisionTreeClassifier()"
      ]
     },
     "execution_count": 36,
     "metadata": {},
     "output_type": "execute_result"
    }
   ],
   "source": [
    "X_train, X_test, y_train, y_test = train_test_split(X, y, test_size=0.20, shuffle = False)\n",
    "dtree = DecisionTreeClassifier()\n",
    "dtree.fit(X_train,y_train)"
   ]
  },
  {
   "cell_type": "markdown",
   "metadata": {},
   "source": [
    "## Predictions "
   ]
  },
  {
   "cell_type": "code",
   "execution_count": 37,
   "metadata": {},
   "outputs": [],
   "source": [
    "predictions = dtree.predict(X_test)"
   ]
  },
  {
   "cell_type": "code",
   "execution_count": 38,
   "metadata": {},
   "outputs": [],
   "source": [
    "from sklearn import metrics"
   ]
  },
  {
   "cell_type": "code",
   "execution_count": 39,
   "metadata": {},
   "outputs": [
    {
     "name": "stdout",
     "output_type": "stream",
     "text": [
      "MAE: 0.38\n",
      "MSE: 0.64\n",
      "RMSE: 0.8\n"
     ]
    }
   ],
   "source": [
    "print('MAE:', metrics.mean_absolute_error(y_test, predictions))\n",
    "print('MSE:', metrics.mean_squared_error(y_test, predictions))\n",
    "print('RMSE:', np.sqrt(metrics.mean_squared_error(y_test, predictions)))"
   ]
  },
  {
   "cell_type": "code",
   "execution_count": null,
   "metadata": {},
   "outputs": [],
   "source": []
  },
  {
   "cell_type": "code",
   "execution_count": 40,
   "metadata": {},
   "outputs": [],
   "source": [
    "# this gives 100% accuracy for our model"
   ]
  },
  {
   "cell_type": "code",
   "execution_count": 5,
   "metadata": {},
   "outputs": [
    {
     "name": "stdout",
     "output_type": "stream",
     "text": [
      "Load the training, test and store data using pandas\n",
      "Assume store open, if not provided\n",
      "Consider only open stores for training. Closed stores wont count into the score.\n",
      "Use only Sales bigger then zero. Simplifies calculation of rmspe\n",
      "Join with store\n",
      "augment features\n"
     ]
    },
    {
     "name": "stderr",
     "output_type": "stream",
     "text": [
      "<timed exec>:44: FutureWarning: Series.dt.weekofyear and Series.dt.week have been deprecated.  Please use Series.dt.isocalendar().week instead.\n",
      "<timed exec>:44: FutureWarning: Series.dt.weekofyear and Series.dt.week have been deprecated.  Please use Series.dt.isocalendar().week instead.\n"
     ]
    },
    {
     "name": "stdout",
     "output_type": "stream",
     "text": [
      "['Store', 'CompetitionDistance', 'Promo', 'Promo2', 'SchoolHoliday', 'StoreType', 'Assortment', 'StateHoliday', 'DayOfWeek', 'Month', 'Day', 'Year', 'WeekOfYear', 'CompetitionOpen', 'PromoOpen', 'IsPromoMonth']\n",
      "training data processed\n",
      "Train a XGBoost model\n",
      "[20:18:01] WARNING: /opt/concourse/worker/volumes/live/7a2b9f41-3287-451b-6691-43e9a6c0910f/volume/xgboost-split_1619728204606/work/src/objective/regression_obj.cu:170: reg:linear is now deprecated in favor of reg:squarederror.\n",
      "[20:18:01] WARNING: /opt/concourse/worker/volumes/live/7a2b9f41-3287-451b-6691-43e9a6c0910f/volume/xgboost-split_1619728204606/work/src/learner.cc:541: \n",
      "Parameters: { silent } might not be used.\n",
      "\n",
      "  This may not be accurate due to some parameters are only used in language bindings but\n",
      "  passed down to XGBoost core.  Or some parameters are not used but slip through this\n",
      "  verification. Please open an issue if you find above cases.\n",
      "\n",
      "\n",
      "[0]\ttrain-rmse:5.79358\ttrain-rmspe:0.99684\teval-rmse:5.79602\teval-rmspe:0.99685\n",
      "[1]\ttrain-rmse:4.06265\ttrain-rmspe:0.98154\teval-rmse:4.06497\teval-rmspe:0.98159\n",
      "[2]\ttrain-rmse:2.85387\ttrain-rmspe:0.93799\teval-rmse:2.85602\teval-rmspe:0.93810\n",
      "[3]\ttrain-rmse:2.01098\ttrain-rmspe:0.85640\teval-rmse:2.01320\teval-rmspe:0.85649\n",
      "[4]\ttrain-rmse:1.42340\ttrain-rmspe:0.74409\teval-rmse:1.42556\teval-rmspe:0.74372\n",
      "[5]\ttrain-rmse:1.01719\ttrain-rmspe:0.61999\teval-rmse:1.01935\teval-rmspe:0.61812\n",
      "[6]\ttrain-rmse:0.73973\ttrain-rmspe:0.50516\teval-rmse:0.74201\teval-rmspe:0.50028\n",
      "[7]\ttrain-rmse:0.55001\ttrain-rmspe:0.41264\teval-rmse:0.55215\teval-rmspe:0.40340\n",
      "[8]\ttrain-rmse:0.42765\ttrain-rmspe:0.34961\teval-rmse:0.43001\teval-rmspe:0.33499\n",
      "[9]\ttrain-rmse:0.35064\ttrain-rmspe:0.31497\teval-rmse:0.35311\teval-rmspe:0.29355\n",
      "[10]\ttrain-rmse:0.30406\ttrain-rmspe:0.29674\teval-rmse:0.30661\teval-rmspe:0.27240\n",
      "[11]\ttrain-rmse:0.27595\ttrain-rmspe:0.29008\teval-rmse:0.27852\teval-rmspe:0.26261\n",
      "[12]\ttrain-rmse:0.26013\ttrain-rmspe:0.28669\teval-rmse:0.26274\teval-rmspe:0.25942\n",
      "[13]\ttrain-rmse:0.24694\ttrain-rmspe:0.28312\teval-rmse:0.24934\teval-rmspe:0.25338\n",
      "[14]\ttrain-rmse:0.23744\ttrain-rmspe:0.27965\teval-rmse:0.23979\teval-rmspe:0.24869\n",
      "[15]\ttrain-rmse:0.23244\ttrain-rmspe:0.27924\teval-rmse:0.23494\teval-rmspe:0.24788\n",
      "[16]\ttrain-rmse:0.23028\ttrain-rmspe:0.27996\teval-rmse:0.23297\teval-rmspe:0.24862\n",
      "[17]\ttrain-rmse:0.22546\ttrain-rmspe:0.27371\teval-rmse:0.22814\teval-rmspe:0.24521\n",
      "[18]\ttrain-rmse:0.22054\ttrain-rmspe:0.27054\teval-rmse:0.22331\teval-rmspe:0.24158\n",
      "[19]\ttrain-rmse:0.21923\ttrain-rmspe:0.26979\teval-rmse:0.22203\teval-rmspe:0.24130\n",
      "[20]\ttrain-rmse:0.20621\ttrain-rmspe:0.25750\teval-rmse:0.20903\teval-rmspe:0.22785\n",
      "[21]\ttrain-rmse:0.19586\ttrain-rmspe:0.24844\teval-rmse:0.19871\teval-rmspe:0.21679\n",
      "[22]\ttrain-rmse:0.19304\ttrain-rmspe:0.24556\teval-rmse:0.19591\teval-rmspe:0.21358\n",
      "[23]\ttrain-rmse:0.18929\ttrain-rmspe:0.24180\teval-rmse:0.19231\teval-rmspe:0.20967\n",
      "[24]\ttrain-rmse:0.18497\ttrain-rmspe:0.23766\teval-rmse:0.18816\teval-rmspe:0.20503\n",
      "[25]\ttrain-rmse:0.18137\ttrain-rmspe:0.23424\teval-rmse:0.18456\teval-rmspe:0.20103\n",
      "[26]\ttrain-rmse:0.17934\ttrain-rmspe:0.23224\teval-rmse:0.18258\teval-rmspe:0.19889\n",
      "[27]\ttrain-rmse:0.17763\ttrain-rmspe:0.22962\teval-rmse:0.18095\teval-rmspe:0.19709\n",
      "[28]\ttrain-rmse:0.17522\ttrain-rmspe:0.22756\teval-rmse:0.17859\teval-rmspe:0.19485\n",
      "[29]\ttrain-rmse:0.17239\ttrain-rmspe:0.22523\teval-rmse:0.17570\teval-rmspe:0.19170\n",
      "[30]\ttrain-rmse:0.16707\ttrain-rmspe:0.22046\teval-rmse:0.17047\teval-rmspe:0.18640\n",
      "[31]\ttrain-rmse:0.16514\ttrain-rmspe:0.21876\teval-rmse:0.16860\teval-rmspe:0.18444\n",
      "[32]\ttrain-rmse:0.16339\ttrain-rmspe:0.21719\teval-rmse:0.16696\teval-rmspe:0.18273\n",
      "[33]\ttrain-rmse:0.16145\ttrain-rmspe:0.21509\teval-rmse:0.16520\teval-rmspe:0.18075\n",
      "[34]\ttrain-rmse:0.16053\ttrain-rmspe:0.21364\teval-rmse:0.16434\teval-rmspe:0.17983\n",
      "[35]\ttrain-rmse:0.15846\ttrain-rmspe:0.21163\teval-rmse:0.16254\teval-rmspe:0.17788\n",
      "[36]\ttrain-rmse:0.15529\ttrain-rmspe:0.20872\teval-rmse:0.15949\teval-rmspe:0.17449\n",
      "[37]\ttrain-rmse:0.15468\ttrain-rmspe:0.20819\teval-rmse:0.15889\teval-rmspe:0.17388\n",
      "[38]\ttrain-rmse:0.14794\ttrain-rmspe:0.20361\teval-rmse:0.15228\teval-rmspe:0.16722\n",
      "[39]\ttrain-rmse:0.14576\ttrain-rmspe:0.20166\teval-rmse:0.15020\teval-rmspe:0.16506\n",
      "[40]\ttrain-rmse:0.14502\ttrain-rmspe:0.20100\teval-rmse:0.14956\teval-rmspe:0.16426\n",
      "[41]\ttrain-rmse:0.14374\ttrain-rmspe:0.19452\teval-rmse:0.14830\teval-rmspe:0.16294\n",
      "[42]\ttrain-rmse:0.14139\ttrain-rmspe:0.19243\teval-rmse:0.14613\teval-rmspe:0.16054\n",
      "[43]\ttrain-rmse:0.13980\ttrain-rmspe:0.19101\teval-rmse:0.14458\teval-rmspe:0.15899\n",
      "[44]\ttrain-rmse:0.13924\ttrain-rmspe:0.19044\teval-rmse:0.14406\teval-rmspe:0.15845\n",
      "[45]\ttrain-rmse:0.13806\ttrain-rmspe:0.18898\teval-rmse:0.14287\teval-rmspe:0.15737\n",
      "[46]\ttrain-rmse:0.13567\ttrain-rmspe:0.18605\teval-rmse:0.14056\teval-rmspe:0.15452\n",
      "[47]\ttrain-rmse:0.13450\ttrain-rmspe:0.18387\teval-rmse:0.13949\teval-rmspe:0.15341\n",
      "[48]\ttrain-rmse:0.13372\ttrain-rmspe:0.18243\teval-rmse:0.13876\teval-rmspe:0.15266\n",
      "[49]\ttrain-rmse:0.13105\ttrain-rmspe:0.17994\teval-rmse:0.13614\teval-rmspe:0.14981\n",
      "[50]\ttrain-rmse:0.13023\ttrain-rmspe:0.17908\teval-rmse:0.13545\teval-rmspe:0.14899\n",
      "[51]\ttrain-rmse:0.12910\ttrain-rmspe:0.17878\teval-rmse:0.13437\teval-rmspe:0.14775\n",
      "[52]\ttrain-rmse:0.12855\ttrain-rmspe:0.17789\teval-rmse:0.13391\teval-rmspe:0.14695\n",
      "[53]\ttrain-rmse:0.12802\ttrain-rmspe:0.17647\teval-rmse:0.13340\teval-rmspe:0.14634\n",
      "[54]\ttrain-rmse:0.12699\ttrain-rmspe:0.17568\teval-rmse:0.13246\teval-rmspe:0.14536\n",
      "[55]\ttrain-rmse:0.12639\ttrain-rmspe:0.17503\teval-rmse:0.13197\teval-rmspe:0.14475\n",
      "[56]\ttrain-rmse:0.12593\ttrain-rmspe:0.17466\teval-rmse:0.13155\teval-rmspe:0.14432\n",
      "[57]\ttrain-rmse:0.12446\ttrain-rmspe:0.17342\teval-rmse:0.13015\teval-rmspe:0.14275\n",
      "[58]\ttrain-rmse:0.12360\ttrain-rmspe:0.17216\teval-rmse:0.12933\teval-rmspe:0.14188\n",
      "[59]\ttrain-rmse:0.12244\ttrain-rmspe:0.17106\teval-rmse:0.12826\teval-rmspe:0.14088\n",
      "[60]\ttrain-rmse:0.12194\ttrain-rmspe:0.17056\teval-rmse:0.12783\teval-rmspe:0.14043\n",
      "[61]\ttrain-rmse:0.12124\ttrain-rmspe:0.16983\teval-rmse:0.12724\teval-rmspe:0.13962\n",
      "[62]\ttrain-rmse:0.12004\ttrain-rmspe:0.16854\teval-rmse:0.12610\teval-rmspe:0.13840\n",
      "[63]\ttrain-rmse:0.11956\ttrain-rmspe:0.16524\teval-rmse:0.12566\teval-rmspe:0.13792\n",
      "[64]\ttrain-rmse:0.11858\ttrain-rmspe:0.16324\teval-rmse:0.12478\teval-rmspe:0.13700\n",
      "[65]\ttrain-rmse:0.11771\ttrain-rmspe:0.16251\teval-rmse:0.12397\teval-rmspe:0.13614\n",
      "[66]\ttrain-rmse:0.11733\ttrain-rmspe:0.16220\teval-rmse:0.12368\teval-rmspe:0.13588\n",
      "[67]\ttrain-rmse:0.11635\ttrain-rmspe:0.16147\teval-rmse:0.12278\teval-rmspe:0.13490\n",
      "[68]\ttrain-rmse:0.11577\ttrain-rmspe:0.16063\teval-rmse:0.12222\teval-rmspe:0.13432\n",
      "[69]\ttrain-rmse:0.11424\ttrain-rmspe:0.15937\teval-rmse:0.12075\teval-rmspe:0.13277\n",
      "[70]\ttrain-rmse:0.11404\ttrain-rmspe:0.15907\teval-rmse:0.12062\teval-rmspe:0.13263\n",
      "[71]\ttrain-rmse:0.11326\ttrain-rmspe:0.15853\teval-rmse:0.11992\teval-rmspe:0.13193\n",
      "[72]\ttrain-rmse:0.11302\ttrain-rmspe:0.15887\teval-rmse:0.11972\teval-rmspe:0.13171\n",
      "[73]\ttrain-rmse:0.11227\ttrain-rmspe:0.15824\teval-rmse:0.11902\teval-rmspe:0.13101\n",
      "[74]\ttrain-rmse:0.11124\ttrain-rmspe:0.15727\teval-rmse:0.11804\teval-rmspe:0.13003\n",
      "[75]\ttrain-rmse:0.11090\ttrain-rmspe:0.15700\teval-rmse:0.11778\teval-rmspe:0.12978\n",
      "[76]\ttrain-rmse:0.11032\ttrain-rmspe:0.15650\teval-rmse:0.11731\teval-rmspe:0.12931\n",
      "[77]\ttrain-rmse:0.10974\ttrain-rmspe:0.15603\teval-rmse:0.11683\teval-rmspe:0.12884\n",
      "[78]\ttrain-rmse:0.10881\ttrain-rmspe:0.15524\teval-rmse:0.11602\teval-rmspe:0.12802\n",
      "[79]\ttrain-rmse:0.10825\ttrain-rmspe:0.15482\teval-rmse:0.11551\teval-rmspe:0.12748\n",
      "[80]\ttrain-rmse:0.10807\ttrain-rmspe:0.15366\teval-rmse:0.11537\teval-rmspe:0.12734\n",
      "[81]\ttrain-rmse:0.10755\ttrain-rmspe:0.15321\teval-rmse:0.11495\teval-rmspe:0.12690\n",
      "[82]\ttrain-rmse:0.10690\ttrain-rmspe:0.15258\teval-rmse:0.11441\teval-rmspe:0.12632\n",
      "[83]\ttrain-rmse:0.10657\ttrain-rmspe:0.15234\teval-rmse:0.11414\teval-rmspe:0.12603\n",
      "[84]\ttrain-rmse:0.10636\ttrain-rmspe:0.15200\teval-rmse:0.11396\teval-rmspe:0.12584\n",
      "[85]\ttrain-rmse:0.10598\ttrain-rmspe:0.15174\teval-rmse:0.11370\teval-rmspe:0.12559\n",
      "[86]\ttrain-rmse:0.10555\ttrain-rmspe:0.13330\teval-rmse:0.11341\teval-rmspe:0.12533\n",
      "[87]\ttrain-rmse:0.10482\ttrain-rmspe:0.13261\teval-rmse:0.11276\teval-rmspe:0.12463\n",
      "[88]\ttrain-rmse:0.10457\ttrain-rmspe:0.13236\teval-rmse:0.11259\teval-rmspe:0.12445\n",
      "[89]\ttrain-rmse:0.10440\ttrain-rmspe:0.13209\teval-rmse:0.11245\teval-rmspe:0.12431\n"
     ]
    },
    {
     "name": "stdout",
     "output_type": "stream",
     "text": [
      "[90]\ttrain-rmse:0.10401\ttrain-rmspe:0.13159\teval-rmse:0.11219\teval-rmspe:0.12363\n",
      "[91]\ttrain-rmse:0.10371\ttrain-rmspe:0.13121\teval-rmse:0.11193\teval-rmspe:0.12338\n",
      "[92]\ttrain-rmse:0.10330\ttrain-rmspe:0.13075\teval-rmse:0.11163\teval-rmspe:0.12309\n",
      "[93]\ttrain-rmse:0.10289\ttrain-rmspe:0.13036\teval-rmse:0.11130\teval-rmspe:0.12276\n",
      "[94]\ttrain-rmse:0.10237\ttrain-rmspe:0.12231\teval-rmse:0.11091\teval-rmspe:0.12237\n",
      "[95]\ttrain-rmse:0.10226\ttrain-rmspe:0.12214\teval-rmse:0.11084\teval-rmspe:0.12228\n",
      "[96]\ttrain-rmse:0.10211\ttrain-rmspe:0.12198\teval-rmse:0.11071\teval-rmspe:0.12215\n",
      "[97]\ttrain-rmse:0.10179\ttrain-rmspe:0.12165\teval-rmse:0.11047\teval-rmspe:0.12195\n",
      "[98]\ttrain-rmse:0.10162\ttrain-rmspe:0.12151\teval-rmse:0.11033\teval-rmspe:0.12181\n",
      "[99]\ttrain-rmse:0.10106\ttrain-rmspe:0.12045\teval-rmse:0.10980\teval-rmspe:0.12122\n",
      "[100]\ttrain-rmse:0.10087\ttrain-rmspe:0.12027\teval-rmse:0.10966\teval-rmspe:0.12106\n",
      "[101]\ttrain-rmse:0.10066\ttrain-rmspe:0.12007\teval-rmse:0.10948\teval-rmspe:0.12088\n",
      "[102]\ttrain-rmse:0.10050\ttrain-rmspe:0.11993\teval-rmse:0.10938\teval-rmspe:0.12077\n",
      "[103]\ttrain-rmse:0.10027\ttrain-rmspe:0.11968\teval-rmse:0.10922\teval-rmspe:0.12060\n",
      "[104]\ttrain-rmse:0.09997\ttrain-rmspe:0.11915\teval-rmse:0.10898\teval-rmspe:0.12034\n",
      "[105]\ttrain-rmse:0.09953\ttrain-rmspe:0.11761\teval-rmse:0.10867\teval-rmspe:0.12010\n",
      "[106]\ttrain-rmse:0.09927\ttrain-rmspe:0.11736\teval-rmse:0.10844\teval-rmspe:0.11983\n",
      "[107]\ttrain-rmse:0.09913\ttrain-rmspe:0.11722\teval-rmse:0.10840\teval-rmspe:0.11979\n",
      "[108]\ttrain-rmse:0.09892\ttrain-rmspe:0.11688\teval-rmse:0.10824\teval-rmspe:0.11949\n",
      "[109]\ttrain-rmse:0.09874\ttrain-rmspe:0.11640\teval-rmse:0.10812\teval-rmspe:0.11936\n",
      "[110]\ttrain-rmse:0.09842\ttrain-rmspe:0.11608\teval-rmse:0.10787\teval-rmspe:0.11911\n",
      "[111]\ttrain-rmse:0.09820\ttrain-rmspe:0.11572\teval-rmse:0.10769\teval-rmspe:0.11874\n",
      "[112]\ttrain-rmse:0.09798\ttrain-rmspe:0.11501\teval-rmse:0.10756\teval-rmspe:0.11863\n",
      "[113]\ttrain-rmse:0.09785\ttrain-rmspe:0.11484\teval-rmse:0.10747\teval-rmspe:0.11854\n",
      "[114]\ttrain-rmse:0.09772\ttrain-rmspe:0.11469\teval-rmse:0.10741\teval-rmspe:0.11850\n",
      "[115]\ttrain-rmse:0.09754\ttrain-rmspe:0.11452\teval-rmse:0.10731\teval-rmspe:0.11841\n",
      "[116]\ttrain-rmse:0.09732\ttrain-rmspe:0.11389\teval-rmse:0.10720\teval-rmspe:0.11832\n",
      "[117]\ttrain-rmse:0.09705\ttrain-rmspe:0.11361\teval-rmse:0.10704\teval-rmspe:0.11817\n",
      "[118]\ttrain-rmse:0.09676\ttrain-rmspe:0.11330\teval-rmse:0.10682\teval-rmspe:0.11794\n",
      "[119]\ttrain-rmse:0.09664\ttrain-rmspe:0.11317\teval-rmse:0.10677\teval-rmspe:0.11787\n",
      "[120]\ttrain-rmse:0.09650\ttrain-rmspe:0.11300\teval-rmse:0.10669\teval-rmspe:0.11780\n",
      "[121]\ttrain-rmse:0.09637\ttrain-rmspe:0.11288\teval-rmse:0.10661\teval-rmspe:0.11773\n",
      "[122]\ttrain-rmse:0.09614\ttrain-rmspe:0.11262\teval-rmse:0.10647\teval-rmspe:0.11760\n",
      "[123]\ttrain-rmse:0.09601\ttrain-rmspe:0.11250\teval-rmse:0.10636\teval-rmspe:0.11749\n",
      "[124]\ttrain-rmse:0.09567\ttrain-rmspe:0.11218\teval-rmse:0.10607\teval-rmspe:0.11720\n",
      "[125]\ttrain-rmse:0.09543\ttrain-rmspe:0.11194\teval-rmse:0.10592\teval-rmspe:0.11704\n",
      "[126]\ttrain-rmse:0.09531\ttrain-rmspe:0.11176\teval-rmse:0.10584\teval-rmspe:0.11695\n",
      "[127]\ttrain-rmse:0.09517\ttrain-rmspe:0.11160\teval-rmse:0.10575\teval-rmspe:0.11687\n",
      "[128]\ttrain-rmse:0.09506\ttrain-rmspe:0.11046\teval-rmse:0.10567\teval-rmspe:0.11680\n",
      "[129]\ttrain-rmse:0.09486\ttrain-rmspe:0.11021\teval-rmse:0.10556\teval-rmspe:0.11669\n",
      "[130]\ttrain-rmse:0.09473\ttrain-rmspe:0.11007\teval-rmse:0.10548\teval-rmspe:0.11663\n",
      "[131]\ttrain-rmse:0.09447\ttrain-rmspe:0.10974\teval-rmse:0.10530\teval-rmspe:0.11625\n",
      "[132]\ttrain-rmse:0.09431\ttrain-rmspe:0.10958\teval-rmse:0.10519\teval-rmspe:0.11614\n",
      "[133]\ttrain-rmse:0.09402\ttrain-rmspe:0.10931\teval-rmse:0.10499\teval-rmspe:0.11595\n",
      "[134]\ttrain-rmse:0.09387\ttrain-rmspe:0.10911\teval-rmse:0.10490\teval-rmspe:0.11585\n",
      "[135]\ttrain-rmse:0.09367\ttrain-rmspe:0.10891\teval-rmse:0.10479\teval-rmspe:0.11576\n",
      "[136]\ttrain-rmse:0.09335\ttrain-rmspe:0.10862\teval-rmse:0.10446\teval-rmspe:0.11547\n",
      "[137]\ttrain-rmse:0.09284\ttrain-rmspe:0.10814\teval-rmse:0.10404\teval-rmspe:0.11507\n",
      "[138]\ttrain-rmse:0.09269\ttrain-rmspe:0.10799\teval-rmse:0.10394\teval-rmspe:0.11497\n",
      "[139]\ttrain-rmse:0.09248\ttrain-rmspe:0.10774\teval-rmse:0.10380\teval-rmspe:0.11490\n",
      "[140]\ttrain-rmse:0.09215\ttrain-rmspe:0.10740\teval-rmse:0.10356\teval-rmspe:0.11466\n",
      "[141]\ttrain-rmse:0.09192\ttrain-rmspe:0.10689\teval-rmse:0.10340\teval-rmspe:0.11447\n",
      "[142]\ttrain-rmse:0.09178\ttrain-rmspe:0.10674\teval-rmse:0.10331\teval-rmspe:0.11439\n",
      "[143]\ttrain-rmse:0.09158\ttrain-rmspe:0.10652\teval-rmse:0.10317\teval-rmspe:0.11426\n",
      "[144]\ttrain-rmse:0.09140\ttrain-rmspe:0.10634\teval-rmse:0.10305\teval-rmspe:0.11414\n",
      "[145]\ttrain-rmse:0.09133\ttrain-rmspe:0.10627\teval-rmse:0.10302\teval-rmspe:0.11410\n",
      "[146]\ttrain-rmse:0.09118\ttrain-rmspe:0.10612\teval-rmse:0.10288\teval-rmspe:0.11398\n",
      "[147]\ttrain-rmse:0.09099\ttrain-rmspe:0.10590\teval-rmse:0.10275\teval-rmspe:0.11378\n",
      "[148]\ttrain-rmse:0.09076\ttrain-rmspe:0.10545\teval-rmse:0.10258\teval-rmspe:0.11356\n",
      "[149]\ttrain-rmse:0.09055\ttrain-rmspe:0.10521\teval-rmse:0.10243\teval-rmspe:0.11341\n",
      "[150]\ttrain-rmse:0.09044\ttrain-rmspe:0.10510\teval-rmse:0.10236\teval-rmspe:0.11326\n",
      "[151]\ttrain-rmse:0.09033\ttrain-rmspe:0.10501\teval-rmse:0.10232\teval-rmspe:0.11322\n",
      "[152]\ttrain-rmse:0.09019\ttrain-rmspe:0.10487\teval-rmse:0.10222\teval-rmspe:0.11314\n",
      "[153]\ttrain-rmse:0.08998\ttrain-rmspe:0.10450\teval-rmse:0.10209\teval-rmspe:0.11289\n",
      "[154]\ttrain-rmse:0.08979\ttrain-rmspe:0.10418\teval-rmse:0.10194\teval-rmspe:0.11256\n",
      "[155]\ttrain-rmse:0.08967\ttrain-rmspe:0.10407\teval-rmse:0.10188\teval-rmspe:0.11249\n",
      "[156]\ttrain-rmse:0.08948\ttrain-rmspe:0.10387\teval-rmse:0.10175\teval-rmspe:0.11238\n",
      "[157]\ttrain-rmse:0.08933\ttrain-rmspe:0.10372\teval-rmse:0.10165\teval-rmspe:0.11228\n",
      "[158]\ttrain-rmse:0.08926\ttrain-rmspe:0.10212\teval-rmse:0.10162\teval-rmspe:0.11225\n",
      "[159]\ttrain-rmse:0.08917\ttrain-rmspe:0.10202\teval-rmse:0.10159\teval-rmspe:0.11219\n",
      "[160]\ttrain-rmse:0.08904\ttrain-rmspe:0.10149\teval-rmse:0.10150\teval-rmspe:0.11202\n",
      "[161]\ttrain-rmse:0.08890\ttrain-rmspe:0.10128\teval-rmse:0.10145\teval-rmspe:0.11198\n",
      "[162]\ttrain-rmse:0.08874\ttrain-rmspe:0.10107\teval-rmse:0.10141\teval-rmspe:0.11193\n",
      "[163]\ttrain-rmse:0.08857\ttrain-rmspe:0.10077\teval-rmse:0.10130\teval-rmspe:0.11181\n",
      "[164]\ttrain-rmse:0.08839\ttrain-rmspe:0.10057\teval-rmse:0.10121\teval-rmspe:0.11173\n",
      "[165]\ttrain-rmse:0.08821\ttrain-rmspe:0.10032\teval-rmse:0.10110\teval-rmspe:0.11159\n",
      "[166]\ttrain-rmse:0.08811\ttrain-rmspe:0.10022\teval-rmse:0.10106\teval-rmspe:0.11156\n",
      "[167]\ttrain-rmse:0.08791\ttrain-rmspe:0.09993\teval-rmse:0.10096\teval-rmspe:0.11146\n",
      "[168]\ttrain-rmse:0.08781\ttrain-rmspe:0.09980\teval-rmse:0.10091\teval-rmspe:0.11141\n",
      "[169]\ttrain-rmse:0.08762\ttrain-rmspe:0.09958\teval-rmse:0.10084\teval-rmspe:0.11134\n",
      "[170]\ttrain-rmse:0.08747\ttrain-rmspe:0.09942\teval-rmse:0.10078\teval-rmspe:0.11128\n",
      "[171]\ttrain-rmse:0.08724\ttrain-rmspe:0.09915\teval-rmse:0.10062\teval-rmspe:0.11109\n",
      "[172]\ttrain-rmse:0.08706\ttrain-rmspe:0.09888\teval-rmse:0.10057\teval-rmspe:0.11105\n",
      "[173]\ttrain-rmse:0.08684\ttrain-rmspe:0.09867\teval-rmse:0.10040\teval-rmspe:0.11088\n",
      "[174]\ttrain-rmse:0.08669\ttrain-rmspe:0.09848\teval-rmse:0.10033\teval-rmspe:0.11081\n",
      "[175]\ttrain-rmse:0.08661\ttrain-rmspe:0.09840\teval-rmse:0.10029\teval-rmspe:0.11078\n",
      "[176]\ttrain-rmse:0.08644\ttrain-rmspe:0.09817\teval-rmse:0.10017\teval-rmspe:0.11064\n",
      "[177]\ttrain-rmse:0.08633\ttrain-rmspe:0.09808\teval-rmse:0.10011\teval-rmspe:0.11057\n",
      "[178]\ttrain-rmse:0.08629\ttrain-rmspe:0.09804\teval-rmse:0.10008\teval-rmspe:0.11055\n",
      "[179]\ttrain-rmse:0.08619\ttrain-rmspe:0.09795\teval-rmse:0.10003\teval-rmspe:0.11051\n",
      "[180]\ttrain-rmse:0.08611\ttrain-rmspe:0.09786\teval-rmse:0.09999\teval-rmspe:0.11047\n",
      "[181]\ttrain-rmse:0.08606\ttrain-rmspe:0.09782\teval-rmse:0.09996\teval-rmspe:0.11044\n",
      "[182]\ttrain-rmse:0.08600\ttrain-rmspe:0.09775\teval-rmse:0.09994\teval-rmspe:0.11042\n",
      "[183]\ttrain-rmse:0.08580\ttrain-rmspe:0.09750\teval-rmse:0.09984\teval-rmspe:0.11033\n",
      "[184]\ttrain-rmse:0.08566\ttrain-rmspe:0.09729\teval-rmse:0.09979\teval-rmspe:0.11028\n",
      "[185]\ttrain-rmse:0.08559\ttrain-rmspe:0.09722\teval-rmse:0.09975\teval-rmspe:0.11024\n",
      "[186]\ttrain-rmse:0.08545\ttrain-rmspe:0.09706\teval-rmse:0.09968\teval-rmspe:0.11018\n",
      "[187]\ttrain-rmse:0.08535\ttrain-rmspe:0.09696\teval-rmse:0.09960\teval-rmspe:0.11009\n",
      "[188]\ttrain-rmse:0.08526\ttrain-rmspe:0.09687\teval-rmse:0.09956\teval-rmspe:0.11005\n",
      "[189]\ttrain-rmse:0.08517\ttrain-rmspe:0.09678\teval-rmse:0.09952\teval-rmspe:0.11002\n",
      "[190]\ttrain-rmse:0.08510\ttrain-rmspe:0.09670\teval-rmse:0.09949\teval-rmspe:0.10999\n"
     ]
    },
    {
     "name": "stdout",
     "output_type": "stream",
     "text": [
      "[191]\ttrain-rmse:0.08496\ttrain-rmspe:0.09656\teval-rmse:0.09941\teval-rmspe:0.10977\n",
      "[192]\ttrain-rmse:0.08492\ttrain-rmspe:0.09652\teval-rmse:0.09939\teval-rmspe:0.10976\n",
      "[193]\ttrain-rmse:0.08481\ttrain-rmspe:0.09642\teval-rmse:0.09933\teval-rmspe:0.10970\n",
      "[194]\ttrain-rmse:0.08470\ttrain-rmspe:0.09626\teval-rmse:0.09928\teval-rmspe:0.10961\n",
      "[195]\ttrain-rmse:0.08459\ttrain-rmspe:0.09607\teval-rmse:0.09921\teval-rmspe:0.10956\n",
      "[196]\ttrain-rmse:0.08429\ttrain-rmspe:0.09568\teval-rmse:0.09901\teval-rmspe:0.10933\n",
      "[197]\ttrain-rmse:0.08420\ttrain-rmspe:0.09557\teval-rmse:0.09897\teval-rmspe:0.10928\n",
      "[198]\ttrain-rmse:0.08413\ttrain-rmspe:0.09543\teval-rmse:0.09891\teval-rmspe:0.10911\n",
      "[199]\ttrain-rmse:0.08386\ttrain-rmspe:0.09516\teval-rmse:0.09869\teval-rmspe:0.10889\n",
      "[200]\ttrain-rmse:0.08374\ttrain-rmspe:0.09502\teval-rmse:0.09863\teval-rmspe:0.10884\n",
      "[201]\ttrain-rmse:0.08364\ttrain-rmspe:0.09493\teval-rmse:0.09860\teval-rmspe:0.10882\n",
      "[202]\ttrain-rmse:0.08348\ttrain-rmspe:0.09472\teval-rmse:0.09849\teval-rmspe:0.10870\n",
      "[203]\ttrain-rmse:0.08321\ttrain-rmspe:0.09446\teval-rmse:0.09829\teval-rmspe:0.10853\n",
      "[204]\ttrain-rmse:0.08301\ttrain-rmspe:0.09424\teval-rmse:0.09817\teval-rmspe:0.10842\n",
      "[205]\ttrain-rmse:0.08295\ttrain-rmspe:0.09416\teval-rmse:0.09814\teval-rmspe:0.10841\n",
      "[206]\ttrain-rmse:0.08287\ttrain-rmspe:0.09404\teval-rmse:0.09810\teval-rmspe:0.10837\n",
      "[207]\ttrain-rmse:0.08270\ttrain-rmspe:0.09386\teval-rmse:0.09801\teval-rmspe:0.10827\n",
      "[208]\ttrain-rmse:0.08260\ttrain-rmspe:0.09377\teval-rmse:0.09797\teval-rmspe:0.10823\n",
      "[209]\ttrain-rmse:0.08248\ttrain-rmspe:0.09364\teval-rmse:0.09791\teval-rmspe:0.10817\n",
      "[210]\ttrain-rmse:0.08228\ttrain-rmspe:0.09345\teval-rmse:0.09777\teval-rmspe:0.10803\n",
      "[211]\ttrain-rmse:0.08220\ttrain-rmspe:0.09335\teval-rmse:0.09775\teval-rmspe:0.10801\n",
      "[212]\ttrain-rmse:0.08203\ttrain-rmspe:0.09319\teval-rmse:0.09766\teval-rmspe:0.10791\n",
      "[213]\ttrain-rmse:0.08197\ttrain-rmspe:0.09311\teval-rmse:0.09764\teval-rmspe:0.10790\n",
      "[214]\ttrain-rmse:0.08185\ttrain-rmspe:0.09300\teval-rmse:0.09760\teval-rmspe:0.10787\n",
      "[215]\ttrain-rmse:0.08174\ttrain-rmspe:0.09290\teval-rmse:0.09755\teval-rmspe:0.10782\n",
      "[216]\ttrain-rmse:0.08168\ttrain-rmspe:0.09284\teval-rmse:0.09751\teval-rmspe:0.10778\n",
      "[217]\ttrain-rmse:0.08165\ttrain-rmspe:0.09282\teval-rmse:0.09751\teval-rmspe:0.10778\n",
      "[218]\ttrain-rmse:0.08146\ttrain-rmspe:0.09258\teval-rmse:0.09739\teval-rmspe:0.10758\n",
      "[219]\ttrain-rmse:0.08135\ttrain-rmspe:0.09253\teval-rmse:0.09736\teval-rmspe:0.10755\n",
      "[220]\ttrain-rmse:0.08131\ttrain-rmspe:0.09249\teval-rmse:0.09734\teval-rmspe:0.10754\n",
      "[221]\ttrain-rmse:0.08116\ttrain-rmspe:0.09235\teval-rmse:0.09724\teval-rmspe:0.10744\n",
      "[222]\ttrain-rmse:0.08106\ttrain-rmspe:0.09222\teval-rmse:0.09720\teval-rmspe:0.10741\n",
      "[223]\ttrain-rmse:0.08096\ttrain-rmspe:0.09210\teval-rmse:0.09716\teval-rmspe:0.10737\n",
      "[224]\ttrain-rmse:0.08086\ttrain-rmspe:0.09175\teval-rmse:0.09713\teval-rmspe:0.10736\n",
      "[225]\ttrain-rmse:0.08079\ttrain-rmspe:0.09164\teval-rmse:0.09712\teval-rmspe:0.10734\n",
      "[226]\ttrain-rmse:0.08063\ttrain-rmspe:0.09149\teval-rmse:0.09702\teval-rmspe:0.10725\n",
      "[227]\ttrain-rmse:0.08055\ttrain-rmspe:0.09140\teval-rmse:0.09698\teval-rmspe:0.10722\n",
      "[228]\ttrain-rmse:0.08050\ttrain-rmspe:0.09135\teval-rmse:0.09697\teval-rmspe:0.10721\n",
      "[229]\ttrain-rmse:0.08045\ttrain-rmspe:0.09130\teval-rmse:0.09695\teval-rmspe:0.10720\n",
      "[230]\ttrain-rmse:0.08031\ttrain-rmspe:0.08963\teval-rmse:0.09689\teval-rmspe:0.10713\n",
      "[231]\ttrain-rmse:0.08026\ttrain-rmspe:0.08958\teval-rmse:0.09687\teval-rmspe:0.10711\n",
      "[232]\ttrain-rmse:0.08017\ttrain-rmspe:0.08949\teval-rmse:0.09684\teval-rmspe:0.10708\n",
      "[233]\ttrain-rmse:0.08004\ttrain-rmspe:0.08920\teval-rmse:0.09682\teval-rmspe:0.10698\n",
      "[234]\ttrain-rmse:0.07996\ttrain-rmspe:0.08910\teval-rmse:0.09680\teval-rmspe:0.10698\n",
      "[235]\ttrain-rmse:0.07984\ttrain-rmspe:0.08895\teval-rmse:0.09672\teval-rmspe:0.10694\n",
      "[236]\ttrain-rmse:0.07979\ttrain-rmspe:0.08890\teval-rmse:0.09670\teval-rmspe:0.10692\n",
      "[237]\ttrain-rmse:0.07974\ttrain-rmspe:0.08884\teval-rmse:0.09668\teval-rmspe:0.10691\n",
      "[238]\ttrain-rmse:0.07967\ttrain-rmspe:0.08878\teval-rmse:0.09665\teval-rmspe:0.10688\n",
      "[239]\ttrain-rmse:0.07956\ttrain-rmspe:0.08863\teval-rmse:0.09662\teval-rmspe:0.10685\n",
      "[240]\ttrain-rmse:0.07946\ttrain-rmspe:0.08853\teval-rmse:0.09655\teval-rmspe:0.10679\n",
      "[241]\ttrain-rmse:0.07935\ttrain-rmspe:0.08838\teval-rmse:0.09651\teval-rmspe:0.10677\n",
      "[242]\ttrain-rmse:0.07931\ttrain-rmspe:0.08835\teval-rmse:0.09650\teval-rmspe:0.10676\n",
      "[243]\ttrain-rmse:0.07916\ttrain-rmspe:0.08819\teval-rmse:0.09643\teval-rmspe:0.10669\n",
      "[244]\ttrain-rmse:0.07901\ttrain-rmspe:0.08805\teval-rmse:0.09636\teval-rmspe:0.10662\n",
      "[245]\ttrain-rmse:0.07893\ttrain-rmspe:0.08798\teval-rmse:0.09634\teval-rmspe:0.10657\n",
      "[246]\ttrain-rmse:0.07881\ttrain-rmspe:0.08784\teval-rmse:0.09626\teval-rmspe:0.10650\n",
      "[247]\ttrain-rmse:0.07869\ttrain-rmspe:0.08769\teval-rmse:0.09619\teval-rmspe:0.10645\n",
      "[248]\ttrain-rmse:0.07859\ttrain-rmspe:0.08761\teval-rmse:0.09613\teval-rmspe:0.10639\n",
      "[249]\ttrain-rmse:0.07852\ttrain-rmspe:0.08754\teval-rmse:0.09613\teval-rmspe:0.10639\n",
      "[250]\ttrain-rmse:0.07845\ttrain-rmspe:0.08747\teval-rmse:0.09610\teval-rmspe:0.10637\n",
      "[251]\ttrain-rmse:0.07838\ttrain-rmspe:0.08740\teval-rmse:0.09606\teval-rmspe:0.10630\n",
      "[252]\ttrain-rmse:0.07824\ttrain-rmspe:0.08715\teval-rmse:0.09601\teval-rmspe:0.10625\n",
      "[253]\ttrain-rmse:0.07819\ttrain-rmspe:0.08710\teval-rmse:0.09599\teval-rmspe:0.10623\n",
      "[254]\ttrain-rmse:0.07808\ttrain-rmspe:0.08697\teval-rmse:0.09596\teval-rmspe:0.10620\n",
      "[255]\ttrain-rmse:0.07796\ttrain-rmspe:0.08678\teval-rmse:0.09594\teval-rmspe:0.10619\n",
      "[256]\ttrain-rmse:0.07791\ttrain-rmspe:0.08693\teval-rmse:0.09593\teval-rmspe:0.10619\n",
      "[257]\ttrain-rmse:0.07780\ttrain-rmspe:0.08682\teval-rmse:0.09589\teval-rmspe:0.10618\n",
      "[258]\ttrain-rmse:0.07768\ttrain-rmspe:0.08668\teval-rmse:0.09581\teval-rmspe:0.10612\n",
      "[259]\ttrain-rmse:0.07759\ttrain-rmspe:0.08657\teval-rmse:0.09580\teval-rmspe:0.10609\n",
      "[260]\ttrain-rmse:0.07747\ttrain-rmspe:0.08642\teval-rmse:0.09575\teval-rmspe:0.10602\n",
      "[261]\ttrain-rmse:0.07743\ttrain-rmspe:0.08637\teval-rmse:0.09572\teval-rmspe:0.10599\n",
      "[262]\ttrain-rmse:0.07733\ttrain-rmspe:0.08609\teval-rmse:0.09568\teval-rmspe:0.10596\n",
      "[263]\ttrain-rmse:0.07721\ttrain-rmspe:0.08594\teval-rmse:0.09563\teval-rmspe:0.10591\n",
      "[264]\ttrain-rmse:0.07714\ttrain-rmspe:0.08585\teval-rmse:0.09561\teval-rmspe:0.10589\n",
      "[265]\ttrain-rmse:0.07707\ttrain-rmspe:0.08427\teval-rmse:0.09559\teval-rmspe:0.10588\n",
      "[266]\ttrain-rmse:0.07695\ttrain-rmspe:0.08415\teval-rmse:0.09556\teval-rmspe:0.10586\n",
      "[267]\ttrain-rmse:0.07689\ttrain-rmspe:0.08408\teval-rmse:0.09553\teval-rmspe:0.10583\n",
      "[268]\ttrain-rmse:0.07686\ttrain-rmspe:0.08404\teval-rmse:0.09552\teval-rmspe:0.10582\n",
      "[269]\ttrain-rmse:0.07680\ttrain-rmspe:0.08398\teval-rmse:0.09551\teval-rmspe:0.10580\n",
      "[270]\ttrain-rmse:0.07674\ttrain-rmspe:0.08390\teval-rmse:0.09551\teval-rmspe:0.10577\n",
      "[271]\ttrain-rmse:0.07666\ttrain-rmspe:0.08380\teval-rmse:0.09549\teval-rmspe:0.10572\n",
      "[272]\ttrain-rmse:0.07661\ttrain-rmspe:0.08375\teval-rmse:0.09549\teval-rmspe:0.10572\n",
      "[273]\ttrain-rmse:0.07653\ttrain-rmspe:0.08366\teval-rmse:0.09548\teval-rmspe:0.10571\n",
      "[274]\ttrain-rmse:0.07645\ttrain-rmspe:0.08357\teval-rmse:0.09545\teval-rmspe:0.10566\n",
      "[275]\ttrain-rmse:0.07637\ttrain-rmspe:0.08350\teval-rmse:0.09545\teval-rmspe:0.10566\n",
      "[276]\ttrain-rmse:0.07630\ttrain-rmspe:0.08341\teval-rmse:0.09542\teval-rmspe:0.10564\n",
      "[277]\ttrain-rmse:0.07619\ttrain-rmspe:0.08304\teval-rmse:0.09536\teval-rmspe:0.10561\n",
      "[278]\ttrain-rmse:0.07611\ttrain-rmspe:0.08296\teval-rmse:0.09533\teval-rmspe:0.10558\n",
      "[279]\ttrain-rmse:0.07604\ttrain-rmspe:0.08284\teval-rmse:0.09530\teval-rmspe:0.10554\n",
      "[280]\ttrain-rmse:0.07595\ttrain-rmspe:0.08275\teval-rmse:0.09527\teval-rmspe:0.10553\n",
      "[281]\ttrain-rmse:0.07588\ttrain-rmspe:0.08265\teval-rmse:0.09527\teval-rmspe:0.10554\n",
      "[282]\ttrain-rmse:0.07583\ttrain-rmspe:0.08259\teval-rmse:0.09526\teval-rmspe:0.10554\n",
      "[283]\ttrain-rmse:0.07577\ttrain-rmspe:0.08252\teval-rmse:0.09524\teval-rmspe:0.10553\n",
      "[284]\ttrain-rmse:0.07568\ttrain-rmspe:0.08243\teval-rmse:0.09520\teval-rmspe:0.10550\n",
      "[285]\ttrain-rmse:0.07562\ttrain-rmspe:0.08236\teval-rmse:0.09518\teval-rmspe:0.10548\n",
      "[286]\ttrain-rmse:0.07555\ttrain-rmspe:0.08230\teval-rmse:0.09517\teval-rmspe:0.10547\n",
      "[287]\ttrain-rmse:0.07542\ttrain-rmspe:0.08202\teval-rmse:0.09512\teval-rmspe:0.10546\n",
      "[288]\ttrain-rmse:0.07536\ttrain-rmspe:0.08192\teval-rmse:0.09511\teval-rmspe:0.10545\n",
      "[289]\ttrain-rmse:0.07529\ttrain-rmspe:0.08179\teval-rmse:0.09507\teval-rmspe:0.10522\n",
      "[290]\ttrain-rmse:0.07519\ttrain-rmspe:0.08074\teval-rmse:0.09508\teval-rmspe:0.10523\n"
     ]
    },
    {
     "name": "stdout",
     "output_type": "stream",
     "text": [
      "[291]\ttrain-rmse:0.07512\ttrain-rmspe:0.08066\teval-rmse:0.09504\teval-rmspe:0.10519\n",
      "[292]\ttrain-rmse:0.07502\ttrain-rmspe:0.08056\teval-rmse:0.09502\teval-rmspe:0.10522\n",
      "[293]\ttrain-rmse:0.07488\ttrain-rmspe:0.08042\teval-rmse:0.09492\teval-rmspe:0.10513\n",
      "[294]\ttrain-rmse:0.07478\ttrain-rmspe:0.08030\teval-rmse:0.09491\teval-rmspe:0.10512\n",
      "[295]\ttrain-rmse:0.07472\ttrain-rmspe:0.08023\teval-rmse:0.09489\teval-rmspe:0.10512\n",
      "[296]\ttrain-rmse:0.07463\ttrain-rmspe:0.08012\teval-rmse:0.09487\teval-rmspe:0.10510\n",
      "[297]\ttrain-rmse:0.07457\ttrain-rmspe:0.08005\teval-rmse:0.09486\teval-rmspe:0.10509\n",
      "[298]\ttrain-rmse:0.07451\ttrain-rmspe:0.07999\teval-rmse:0.09482\teval-rmspe:0.10505\n",
      "[299]\ttrain-rmse:0.07447\ttrain-rmspe:0.07992\teval-rmse:0.09481\teval-rmspe:0.10504\n",
      "Validating\n",
      "RMSPE: 0.105042\n",
      "Make predictions on the test set\n",
      "CPU times: user 11min 41s, sys: 26 s, total: 12min 7s\n",
      "Wall time: 3min 46s\n"
     ]
    }
   ],
   "source": [
    "%%time\n",
    "import pandas as pd\n",
    "import numpy as np\n",
    "from sklearn.model_selection import train_test_split\n",
    "import xgboost as xgb\n",
    "import operator\n",
    "import matplotlib\n",
    "matplotlib.use(\"Agg\") #Needed to save figures\n",
    "import matplotlib.pyplot as plt\n",
    "\n",
    "def create_feature_map(features):\n",
    "    outfile = open('xgb.fmap', 'w')\n",
    "    for i, feat in enumerate(features):\n",
    "        outfile.write('{0}\\t{1}\\tq\\n'.format(i, feat))\n",
    "    outfile.close()\n",
    "\n",
    "def rmspe(y, yhat):\n",
    "    return np.sqrt(np.mean((yhat/y-1) ** 2))\n",
    "\n",
    "def rmspe_xg(yhat, y):\n",
    "    y = np.expm1(y.get_label())\n",
    "    yhat = np.expm1(yhat)\n",
    "    return \"rmspe\", rmspe(y,yhat)\n",
    "\n",
    "# Gather some features\n",
    "def build_features(features, data):\n",
    "    # remove NaNs\n",
    "    data.fillna(0, inplace=True)\n",
    "    data.loc[data.Open.isnull(), 'Open'] = 1\n",
    "    # Use some properties directly\n",
    "    features.extend(['Store', 'CompetitionDistance', 'Promo', 'Promo2', 'SchoolHoliday'])\n",
    "\n",
    "    # Label encode some features\n",
    "    features.extend(['StoreType', 'Assortment', 'StateHoliday'])\n",
    "    mappings = {'0':0, 'a':1, 'b':2, 'c':3, 'd':4}\n",
    "    data.StoreType.replace(mappings, inplace=True)\n",
    "    data.Assortment.replace(mappings, inplace=True)\n",
    "    data.StateHoliday.replace(mappings, inplace=True)\n",
    "\n",
    "    features.extend(['DayOfWeek', 'Month', 'Day', 'Year', 'WeekOfYear'])\n",
    "    data['Year'] = data.Date.dt.year\n",
    "    data['Month'] = data.Date.dt.month\n",
    "    data['Day'] = data.Date.dt.day\n",
    "    data['DayOfWeek'] = data.Date.dt.dayofweek\n",
    "    data['WeekOfYear'] = data.Date.dt.weekofyear\n",
    "\n",
    "    # CompetionOpen en PromoOpen from https://www.kaggle.com/ananya77041/rossmann-store-sales/randomforestpython/code\n",
    "    # Calculate time competition open time in months\n",
    "    features.append('CompetitionOpen')\n",
    "    data['CompetitionOpen'] = 12 * (data.Year - data.CompetitionOpenSinceYear) + \\\n",
    "        (data.Month - data.CompetitionOpenSinceMonth)\n",
    "    # Promo open time in months\n",
    "    features.append('PromoOpen')\n",
    "    data['PromoOpen'] = 12 * (data.Year - data.Promo2SinceYear) + \\\n",
    "        (data.WeekOfYear - data.Promo2SinceWeek) / 4.0\n",
    "    data['PromoOpen'] = data.PromoOpen.apply(lambda x: x if x > 0 else 0)\n",
    "    data.loc[data.Promo2SinceYear == 0, 'PromoOpen'] = 0\n",
    "\n",
    "    # Indicate that sales on that day are in promo interval\n",
    "    features.append('IsPromoMonth')\n",
    "    month2str = {1:'Jan', 2:'Feb', 3:'Mar', 4:'Apr', 5:'May', 6:'Jun', \\\n",
    "             7:'Jul', 8:'Aug', 9:'Sept', 10:'Oct', 11:'Nov', 12:'Dec'}\n",
    "    data['monthStr'] = data.Month.map(month2str)\n",
    "    data.loc[data.PromoInterval == 0, 'PromoInterval'] = ''\n",
    "    data['IsPromoMonth'] = 0\n",
    "    for interval in data.PromoInterval.unique():\n",
    "        if interval != '':\n",
    "            for month in interval.split(','):\n",
    "                data.loc[(data.monthStr == month) & (data.PromoInterval == interval), 'IsPromoMonth'] = 1\n",
    "\n",
    "    return data\n",
    "\n",
    "\n",
    "## Start of main script\n",
    "\n",
    "print(\"Load the training, test and store data using pandas\")\n",
    "types = {'CompetitionOpenSinceYear': np.dtype(int),\n",
    "         'CompetitionOpenSinceMonth': np.dtype(int),\n",
    "         'StateHoliday': np.dtype(str),\n",
    "         'Promo2SinceWeek': np.dtype(int),\n",
    "         'SchoolHoliday': np.dtype(float),\n",
    "         'PromoInterval': np.dtype(str)}\n",
    "train = pd.read_csv(\"train.csv\", parse_dates=[2], dtype=types)\n",
    "test = pd.read_csv(\"test.csv\", parse_dates=[3], dtype=types)\n",
    "store = pd.read_csv(\"store.csv\")\n",
    "\n",
    "print(\"Assume store open, if not provided\")\n",
    "train.fillna(1, inplace=True)\n",
    "test.fillna(1, inplace=True)\n",
    "\n",
    "print(\"Consider only open stores for training. Closed stores wont count into the score.\")\n",
    "train = train[train[\"Open\"] != 0]\n",
    "print(\"Use only Sales bigger then zero. Simplifies calculation of rmspe\")\n",
    "train = train[train[\"Sales\"] > 0]\n",
    "\n",
    "print(\"Join with store\")\n",
    "train = pd.merge(train, store, on='Store')\n",
    "test = pd.merge(test, store, on='Store')\n",
    "\n",
    "features = []\n",
    "\n",
    "print(\"augment features\")\n",
    "build_features(features, train)\n",
    "build_features([], test)\n",
    "print(features)\n",
    "\n",
    "print('training data processed')\n",
    "\n",
    "params = {\"objective\": \"reg:linear\",\n",
    "          \"booster\" : \"gbtree\",\n",
    "          \"eta\": 0.3,\n",
    "          \"max_depth\": 10,\n",
    "          \"subsample\": 0.9,\n",
    "          \"colsample_bytree\": 0.7,\n",
    "          \"silent\": 1,\n",
    "          \"seed\": 1301\n",
    "          }\n",
    "num_boost_round = 300\n",
    "\n",
    "print(\"Train a XGBoost model\")\n",
    "X_train, X_valid = train_test_split(train, test_size=0.1, random_state=10)\n",
    "y_train = np.log1p(X_train.Sales)\n",
    "y_valid = np.log1p(X_valid.Sales)\n",
    "dtrain = xgb.DMatrix(X_train[features], y_train)\n",
    "dvalid = xgb.DMatrix(X_valid[features], y_valid)\n",
    "\n",
    "watchlist = [(dtrain, 'train'), (dvalid, 'eval')]\n",
    "gbm = xgb.train(params, dtrain, num_boost_round, evals=watchlist, \\\n",
    "  early_stopping_rounds=100, feval=rmspe_xg, verbose_eval=True)\n",
    "\n",
    "print(\"Validating\")\n",
    "yhat = gbm.predict(xgb.DMatrix(X_valid[features]))\n",
    "error = rmspe(X_valid.Sales.values, np.expm1(yhat))\n",
    "print('RMSPE: {:.6f}'.format(error))\n",
    "\n",
    "print(\"Make predictions on the test set\")\n",
    "dtest = xgb.DMatrix(test[features])\n",
    "test_probs = gbm.predict(dtest)\n",
    "# Make Submission\n",
    "result = pd.DataFrame({\"Id\": test[\"Id\"], 'Sales': np.expm1(test_probs)})\n",
    "result.to_csv(\"xgboost_10_submission.csv\", index=False)\n",
    "\n",
    "# XGB feature importances\n",
    "# Based on https://www.kaggle.com/mmueller/liberty-mutual-group-property-inspection-prediction/xgb-feature-importance-python/code\n",
    "\n",
    "create_feature_map(features)\n",
    "importance = gbm.get_fscore(fmap='xgb.fmap')\n",
    "importance = sorted(importance.items(), key=operator.itemgetter(1))\n",
    "\n",
    "df = pd.DataFrame(importance, columns=['feature', 'fscore'])\n",
    "df['fscore'] = df['fscore'] / df['fscore'].sum()\n"
   ]
  },
  {
   "cell_type": "code",
   "execution_count": 2,
   "metadata": {},
   "outputs": [],
   "source": [
    "featp = df.plot(kind='barh', x='feature', y='fscore', legend=False, figsize=(6, 10))\n",
    "plt.title('XGBoost Feature Importance')\n",
    "plt.xlabel('relative importance')\n",
    "fig_featp = featp.get_figure()\n",
    "fig_featp.savefig('feature_importance_xgb.png', bbox_inches='tight', pad_inches=1)"
   ]
  },
  {
   "cell_type": "markdown",
   "metadata": {},
   "source": [
    "https://www.kaggle.com/calladrus/supermarket-sales-eda"
   ]
  }
 ],
 "metadata": {
  "kernelspec": {
   "display_name": "Python 3",
   "language": "python",
   "name": "python3"
  },
  "language_info": {
   "codemirror_mode": {
    "name": "ipython",
    "version": 3
   },
   "file_extension": ".py",
   "mimetype": "text/x-python",
   "name": "python",
   "nbconvert_exporter": "python",
   "pygments_lexer": "ipython3",
   "version": "3.8.5"
  }
 },
 "nbformat": 4,
 "nbformat_minor": 4
}
